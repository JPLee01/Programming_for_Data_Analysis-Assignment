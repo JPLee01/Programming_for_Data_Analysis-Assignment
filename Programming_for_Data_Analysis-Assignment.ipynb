{
 "cells": [
  {
   "cell_type": "markdown",
   "metadata": {},
   "source": [
    "<img align=\"centre\" width=\"750\" height=\"750\" img src=\"https://i0.wp.com/www.creatingentrepreneursinfood.eu/wp-content/uploads/2017/02/GMIT-logo.png\">"
   ]
  },
  {
   "cell_type": "markdown",
   "metadata": {},
   "source": [
    "# Assignment - Programming for Data Analysis \n",
    "\n",
    "* **Author:** John Paul Lee\n",
    "* **Github:** JPLee01\n",
    "* **Email:** G00387906@gmit.ie\n",
    "* **Created:** 31-10-2020, **Last update:** 22-11-2020\n",
    "* Programming of Data Analysis: *numpy.random* Assignment 2020\n",
    "****\n",
    "This Jupyter Notebook has been created to explain the *numpy.random* package in Python. This notebook will explain the packages use and detailed explanations of at least five of the distributions provided for in the package for the Programming of Data Analysis Assignment.\n",
    "\n",
    "**Lecturer:** Dr. Brian McGinley\n",
    "\n",
    "The Project instructions can be found [here](https://github.com/JPLee01/Programming_for_Data_Analysis-Assignment/blob/main/Assignment%20Instructions.pdf)\n",
    "****"
   ]
  },
  {
   "cell_type": "markdown",
   "metadata": {},
   "source": [
    "As part of the assignment this notebook will be broken into four distinct sections:\n",
    "1. Explain the overall purpose of the package\n",
    "2. Explain the use of the “Simple Random Data” and “Permutations” functions\n",
    "3. Explain the use and purpose of at least five “Distributions” functions\n",
    "4. Explain the use of seeds in Generating Pseudorandom Mumbers"
   ]
  },
  {
   "cell_type": "markdown",
   "metadata": {},
   "source": [
    "## Preliminaries\n",
    "Prior to explaining each section we first need to import a number of libaries. We need to import the numpy libary as it is essential for the analysis of the numpy.random package. The matplotlib and seaborn libaries will also need to be imported to allow for the creation of visualisations in the assignmnet."
   ]
  },
  {
   "cell_type": "code",
   "execution_count": 1,
   "metadata": {},
   "outputs": [],
   "source": [
    "# Import numpy to allow for analysis of the numpy.random package\n",
    "# Import matplotlib.pyplot and seaborn for the creation of visualisations\n",
    "import numpy as np\n",
    "import matplotlib.pyplot as plt\n",
    "import seaborn as sns"
   ]
  },
  {
   "cell_type": "markdown",
   "metadata": {},
   "source": [
    "Also as we will be displaying Plots in this Jupyter Notebook we will implement the *inline* magic command to allow the Plots to be renerded inline within the Notebook.<sup>[1](#myfootnote1)</sup>"
   ]
  },
  {
   "cell_type": "code",
   "execution_count": 2,
   "metadata": {},
   "outputs": [],
   "source": [
    "#Inline Magic command implemented to ensure that the Plots are rendered inline\n",
    "%matplotlib inline"
   ]
  },
  {
   "cell_type": "markdown",
   "metadata": {},
   "source": [
    "To ensure uniformity in the throughout the Juypter Notebook in terms of the the Seaborn Plots display the *style* and *palette* fuction will be set.\n",
    "\n",
    "The *style* function will be set to *darkgrid*. This will allow for optimal measurments of Plots as the darkened background with the built in grid lines will be best displayed against the white background of the Juypter Notebook.<sup>[2](#myfootnote2)</sup> \n",
    "\n",
    "The *palette* fuction will be set to *bright* as it will allow for clear distinction of multiple outputs within one Plot.<sup>[3](#myfootnote3)</sup> "
   ]
  },
  {
   "cell_type": "code",
   "execution_count": 3,
   "metadata": {},
   "outputs": [],
   "source": [
    "#Setting of Seaborn dispays to enure uniformity throughout the Juypter Notebook\n",
    "#Darkplot style selected to allow for optimal measurments of Plots\n",
    "sns.set_style(\"darkgrid\")\n",
    "#Bright colour palette selected to allow for clear distinction of multiple outputs within one Plot \n",
    "sns.set_palette(\"bright\")"
   ]
  },
  {
   "cell_type": "markdown",
   "metadata": {},
   "source": [
    "## Section 1 - Explain the Overall Purpose of the Package"
   ]
  },
  {
   "cell_type": "markdown",
   "metadata": {},
   "source": [
    "<img align=\"centre\" width=\"350\" height=\"350\" img src=\"https://user-images.githubusercontent.com/50221806/86498201-a8bd8680-bd39-11ea-9d08-66b610a8dc01.png\">"
   ]
  },
  {
   "cell_type": "markdown",
   "metadata": {},
   "source": [
    "The numpy.random fuction is a package within the NumPy (Numerical Python) libary for doing random sampling.<sup>[4](#myfootnote4)</sup> \n",
    "\n",
    "NumPy according to it's [manual](https://numpy.org/doc/stable/user/whatisnumpy.html) is a \"Python library that provides a multidimensional array object, various derived objects (such as masked arrays and matrices), and an assortment of routines for fast operations on arrays, including mathematical, logical, shape manipulation, sorting, selecting, I/O, discrete Fourier transforms, basic linear algebra, basic statistical operations, random simulation.\"<sup>[5](#myfootnote5)</sup> The NumPy library enhances Python through the use of powerful data structures, implementing multi-dimensional arrays and matrices.<sup>[6](#myfootnote6)</sup> \n",
    "These data structures guarantee efficient calculations with matrices and arrays.<sup>[7](#myfootnote7)</sup> As a result, NumPy is able to help programmers in easily performing numerical computations, and is considered the fundamental package for scientific computing with Python.<sup>[8](#myfootnote8)</sup> Some of the numerical computations which can be performed easily with NumPy include:<sup>[9](#myfootnote9)</sup>\n",
    "   * Machine Learning Models\n",
    "   * Image Processing and Computer Graphics\n",
    "   * Mathematical tasks\n",
    "\n",
    "The numpy.random fuction within NumPy produces pseudorandom numbers (numbers created through the use of algorithms that use mathematical formulae or simply precalculated tables to produce sequences of numbers that appear random<sup>[10](#myfootnote10)</sup>) using combinations of a BitGenerator to create sequences and a Generator to use those sequences to sample from different statistical distributions.<sup>[11](#myfootnote11)</sup> A BitGenerator generates random numbers. These are typically unsigned integer words filled with sequences of either 32 or 64 random bits.<sup>[12](#myfootnote12)</sup> While a Generator transforms the sequences of random bits from the BitGenerator into sequences of numbers that follow a specific probability distribution (such as uniform, Normal or Binomial) within a specified interval.<sup>[13](#myfootnote13)</sup>\n",
    "\n",
    "It should be noted that since NumPy version 1.17.0 the Generator can be initialized with a number of different BitGenerators.<sup>[11](#myfootnote11)</sup> The default BitGenerator within NumPy is PCG64 which is a 128-bit implementation of O’Neill’s permutation congruential generator.<sup>[14](#myfootnote14)</sup>"
   ]
  },
  {
   "cell_type": "markdown",
   "metadata": {},
   "source": [
    "## Section 2 - Explain the use of the “Simple Random Data” and “Permutations” functions"
   ]
  },
  {
   "cell_type": "markdown",
   "metadata": {},
   "source": [
    "Within this section I will explain the of the simple random data and permutations functions within NumPy."
   ]
  },
  {
   "cell_type": "markdown",
   "metadata": {},
   "source": [
    "### Sction 2.1 - Simple Random Data"
   ]
  },
  {
   "cell_type": "markdown",
   "metadata": {},
   "source": [
    "In statistics a simple random data is defined as a subset of a statistical population in which each member of the subset has an equal probability of being chosen.<sup>[15](#myfootnote15)</sup> Moore, David and McCabe go into further detail by describing it as: \"A simple random data of size *n* consists of *n* individuals from the population chosen in such a way that every set of *n* individuals has an equal chance to be the sample actually selected\".<sup>[16](#myfootnote16)</sup> This is also displayed in pictorial form in the image below. An example simple random data in action would be when a teachers puts students' names in a hat and chooses without looking to get a sample of students. In essence, simple random data is meant to be an unbiased representation of a group. A positive of which is that it is seen as fairly representative since they don't favor certain members/groups.<sup>[17](#myfootnote17)</sup> \n",
    "\n",
    "<img align=\"centre\" width=\"350\" height=\"350\" img src=\"https://rm-15da4.kxcdn.com/wp-content/uploads/2015/04/Simple-random-sampling2.png\">\n",
    "\n",
    "Within *numpy.random* package there are four functions which use Simple Random Data:\n",
    "1. Integers\n",
    "2. Random\n",
    "3. Choice\n",
    "4. Bytes"
   ]
  },
  {
   "cell_type": "markdown",
   "metadata": {},
   "source": [
    "#### 2.1.1 Integers"
   ]
  },
  {
   "cell_type": "markdown",
   "metadata": {},
   "source": [
    "This function returns random integers from the discrete uniform distribution (i.e. equally likely outcomes<sup>[18](#myfootnote18)</sup>) of the specified dtype.\n",
    "\n",
    "The method for generating these integers is as follows: \n",
    "**```Generator.integers(low, high=None, size=None, dtype=np.int64, endpoint=False)```**\n",
    "    \n",
    "The parameters of the above method are as follows:<sup>[19](#myfootnote19)</sup>\n",
    "* *low* - Lowest (signed) integers to be drawn from the distribution (if ```high=None``` selected low is set to 0 and is used for the high parameter). The value for this parameter may be an integer or array-like of integers.\n",
    "* *high* - Optional parameter. If provided, one above the largest (signed) integer to be drawn from the distribution (see above for if ```high=None``` selected). If array-like, must contain integer values. The value (if chosen) for this parameter may be an integer or array-like of integers.\n",
    "* *size* - Optional parameter. If provided, dictates the output shape. If the given shape is, e.g., ```size=(2, 4, 10)``` then ```2 * 4 * 10``` samples are drawn (2 x Arrays (Groups), 4 x Rows in Each Array and 10 x Columns in Each Array). Default is None, in which case a single value is returned. The value (if chosen) for this parameter may be an integer or tuple of integers.\n",
    "* *dtype* - Optional parameter. The desired dtype (data type object<sup>[20](#myfootnote20)</sup>) of the result. Byteorder must be native. The default value is ```np.int64```. The value (if chosen) for this parameter may be a dtype.\n",
    "* *endpoint* - Optional parameter. If provided (```endpoint=True```), sample from the interval (low, high) instead of the default (low, high) defaults to False. The value (if chosen) for this parameter may be boolean. \n",
    "    \n",
    "The return from this function is a size-shaped array of random integers from the appropriate distribution, or a single such random integers if size not provided.\n",
    "\n",
    "This will now be highlighted in the below examples:"
   ]
  },
  {
   "cell_type": "code",
   "execution_count": 4,
   "metadata": {},
   "outputs": [
    {
     "name": "stdout",
     "output_type": "stream",
     "text": [
      "[[[ 1  5  4]\n",
      "  [ 4  8  6]\n",
      "  [ 6  6  7]\n",
      "  [ 7  4  4]\n",
      "  [ 4 10  4]\n",
      "  [ 8  3  6]\n",
      "  [ 4  9  1]\n",
      "  [ 9  1  7]]\n",
      "\n",
      " [[ 9  7  8]\n",
      "  [ 3  3  4]\n",
      "  [ 2  3  5]\n",
      "  [ 2  8  5]\n",
      "  [ 3  3  4]\n",
      "  [ 3  1  3]\n",
      "  [ 5  4  4]\n",
      "  [ 2  8 10]]]\n"
     ]
    }
   ],
   "source": [
    "#Generate a 2 x 8 x 3 array (2 Groups with 8 Rows and 3 columns) of integers between 1 and 10, inclusive\n",
    "#Setting of \"rng\" as the np.random.default_rng() function. This will be used throughout the Notebook\n",
    "rng = np.random.default_rng()\n",
    "rng.integers(1, 11, size=(2, 8, 3))\n",
    "z = rng.integers(1, 11, size=(2, 8, 3))\n",
    "print(z)"
   ]
  },
  {
   "cell_type": "code",
   "execution_count": 5,
   "metadata": {
    "scrolled": true
   },
   "outputs": [
    {
     "name": "stdout",
     "output_type": "stream",
     "text": [
      "[[[3 4 1 1 3 3]\n",
      "  [1 4 5 3 5 5]\n",
      "  [3 3 1 3 3 5]\n",
      "  [3 4 2 3 4 1]]]\n"
     ]
    }
   ],
   "source": [
    "#Generate a 1 x 4 x 6 array (1 Group with 4 Rows and 6 columns) of integers between 1 and 5, inclusive\n",
    "rng.integers(1, 6, size=(1, 4, 6))\n",
    "x = rng.integers(1, 6, size=(1, 4, 6))\n",
    "print(x)"
   ]
  },
  {
   "cell_type": "markdown",
   "metadata": {},
   "source": [
    "The resulting arrays can also be displayed visually using seaborn and matplotlib.pyplot:"
   ]
  },
  {
   "cell_type": "code",
   "execution_count": 6,
   "metadata": {},
   "outputs": [
    {
     "data": {
      "text/plain": [
       "Text(0, 0.5, 'Frequency')"
      ]
     },
     "execution_count": 6,
     "metadata": {},
     "output_type": "execute_result"
    },
    {
     "data": {
      "image/png": "[encoded data removed]",
      "text/plain": [
       "<Figure size 432x288 with 1 Axes>"
      ]
     },
     "metadata": {},
     "output_type": "display_data"
    }
   ],
   "source": [
    "#Visualise the above Integers\n",
    "sns.distplot(x, bins=6)\n",
    "plt.xlabel(\"Random Numbers\")\n",
    "plt.ylabel(\"Frequency\")"
   ]
  },
  {
   "cell_type": "markdown",
   "metadata": {},
   "source": [
    "#### 2.1.2 Random"
   ]
  },
  {
   "cell_type": "markdown",
   "metadata": {},
   "source": [
    "This function returns random floats in the half-open interval (0.0, 1.0), i.e. returns random values between 0 and 1 in a given shape.<sup>[21](#myfootnote21)</sup>\n",
    "\n",
    "The method for generating the random floats is as follows: \n",
    "**```Generator.random(size=None, dtype=np.float64, out=None)```**\n",
    "\n",
    "The results are from the continuous uniform distribution over the stated interval. This means that it takes values within a specified range, e.g. between 0 and 1.<sup>[22](#myfootnote22)</sup>) The mathematical formula for this distribution can be seen in the image below:\n",
    "\n",
    "<img align=\"centre\" width=\"500\" height=\"500\" img src=\"https://images.slideplayer.com/25/7872338/slides/slide_1.jpg\">\n",
    "\n",
    "The parameters of the above method are as follows:<sup>[23](#myfootnote23)</sup>\n",
    "* *size* - Optional parameter. If provided, dictates the output shape. If the given shape is, e.g., ```size=(3, 5, 8)``` then ```3 * 5 * 8``` samples are drawn (3 x Arrays (Groups), 5 x Rows in Each Array and 8 x Columns in Each Array). Default is None, in which case a single value is returned. The value (if chosen) for this parameter may be an integer or tuple of integers.\n",
    "* *dtype* - Optional parameter. The desired dtype (data type object<sup>[20](#myfootnote20)</sup>) of the result. Byteorder must be native. The default value is np.int64 and only float64 and float32 are supported. The value (if chosen) for this parameter must be either ```np.int64``` or ```np.int32```.\n",
    "* *out* - Optional parameter.An alternative output array in which to place the result. If size is not None, it must have the same shape as the provided size and must match the type of the output values. The value (if chosen) for this parameter may a ndarray i.e. a multidimensional container of items of the same type and size.<sup>[24](#myfootnote24)</sup>\n",
    "\n",
    "The return from this function is an array of random floats of shape size. Unless size is none, in which case a single float is returned.\n",
    "\n",
    "This will now be highlighted in the below examples:"
   ]
  },
  {
   "cell_type": "code",
   "execution_count": 7,
   "metadata": {},
   "outputs": [
    {
     "data": {
      "text/plain": [
       "0.6375112124364076"
      ]
     },
     "execution_count": 7,
     "metadata": {},
     "output_type": "execute_result"
    }
   ],
   "source": [
    "#Generate a random float between 0 and 1\n",
    "rng.random()"
   ]
  },
  {
   "cell_type": "code",
   "execution_count": 8,
   "metadata": {},
   "outputs": [
    {
     "name": "stdout",
     "output_type": "stream",
     "text": [
      "[[-1.35005784 -3.04740015 -0.59944776]\n",
      " [-4.94852272 -2.32318162 -0.25480838]\n",
      " [-1.5451751  -1.82445726 -0.73486051]\n",
      " [-2.75465518 -1.09754838 -3.41298891]]\n"
     ]
    }
   ],
   "source": [
    "#Generate a 4 x 3 Array (1 Array (Group) with 4 Rows and 3 columns)) of random numbers from -5 to 0\n",
    "x = 5 * rng.random((4, 3)) - 5\n",
    "print(x)"
   ]
  },
  {
   "cell_type": "markdown",
   "metadata": {},
   "source": [
    "The resulting floats can also be displayed visually using seaborn and matplotlib.pyplot:"
   ]
  },
  {
   "cell_type": "code",
   "execution_count": 9,
   "metadata": {},
   "outputs": [
    {
     "data": {
      "text/plain": [
       "Text(0, 0.5, 'Frequency')"
      ]
     },
     "execution_count": 9,
     "metadata": {},
     "output_type": "execute_result"
    },
    {
     "data": {
      "image/png": "[encoded data removed]",
      "text/plain": [
       "<Figure size 432x288 with 1 Axes>"
      ]
     },
     "metadata": {},
     "output_type": "display_data"
    }
   ],
   "source": [
    "#Visualise the above Floats\n",
    "sns.distplot(x, bins=8)\n",
    "plt.xlabel(\"Random Numbers\")\n",
    "plt.ylabel(\"Frequency\")"
   ]
  },
  {
   "cell_type": "markdown",
   "metadata": {},
   "source": [
    "This function can also be used for an array of inputs, outputting multiple arrays of random floats."
   ]
  },
  {
   "cell_type": "code",
   "execution_count": 10,
   "metadata": {},
   "outputs": [
    {
     "name": "stdout",
     "output_type": "stream",
     "text": [
      "[[[0.01327708 0.69408784]\n",
      "  [0.10468467 0.29688678]]\n",
      "\n",
      " [[0.93927433 0.34121155]\n",
      "  [0.95934761 0.01699   ]]\n",
      "\n",
      " [[0.98127389 0.2677274 ]\n",
      "  [0.81823172 0.4962559 ]]\n",
      "\n",
      " [[0.80260715 0.55218718]\n",
      "  [0.63518858 0.58915845]]]\n"
     ]
    }
   ],
   "source": [
    "#Generate an 4 x 2 x 2 Array (4 Arrays (Groups) with 2 Rows and 2 columns)) of random numbers\n",
    "x = np.random.rand(4,2,2)\n",
    "print(x)"
   ]
  },
  {
   "cell_type": "markdown",
   "metadata": {},
   "source": [
    "The resulting arrays of random floats can also be displayed visually using seaborn and matplotlib.pyplot:"
   ]
  },
  {
   "cell_type": "code",
   "execution_count": 11,
   "metadata": {},
   "outputs": [
    {
     "data": {
      "text/plain": [
       "<matplotlib.legend.Legend at 0x1238d72e0>"
      ]
     },
     "execution_count": 11,
     "metadata": {},
     "output_type": "execute_result"
    },
    {
     "data": {
      "image/png": "[encoded data removed]",
      "text/plain": [
       "<Figure size 432x288 with 1 Axes>"
      ]
     },
     "metadata": {},
     "output_type": "display_data"
    }
   ],
   "source": [
    "#Visualise the above arrays of random Floats \n",
    "sns.distplot(x[0,0], label=\"x[0,0]\")\n",
    "sns.distplot(x[0,1], label=\"x[0,1]\")\n",
    "sns.distplot(x[1,0], label=\"x[1,0]\")\n",
    "sns.distplot(x[1,1], label=\"x[1,1]\")\n",
    "plt.xlabel(\"Random Numbers\")\n",
    "plt.ylabel(\"Frequency\")\n",
    "plt.legend(loc=\"best\")"
   ]
  },
  {
   "cell_type": "markdown",
   "metadata": {},
   "source": [
    "#### 2.1.3 Choice"
   ]
  },
  {
   "cell_type": "markdown",
   "metadata": {},
   "source": [
    "This function generates a random sample from a given 1-D (One Dimensional) array, i.e. it generates random samples for data analysis.<sup>[25](#myfootnote25)</sup>\n",
    "\n",
    "The method for generating the random samples is as follows: \n",
    "**```Generator.choice(a, size=None, replace=True, p=None, axis=0, shuffle=True)```**\n",
    "\n",
    "The parameters of the above method are as follows:<sup>[26](#myfootnote26)</sup>\n",
    "* *a* - The array you want to operate on. If an ndarray is selected, a random sample is generated from its elements. If an innteger is selected, the random sample is generated from ```np.arange(a)```. The value for this parameter may be an integer or array-like of integers.\n",
    "* *size* - Optional parameter. If provided, dictates the output shape. If the given shape is, e.g., ```size=(2, 3, 3)```then ```2 * 3 * 3``` samples are drawn (2 x Arrays (Groups), 3 x Rows in Each Array and 3 x Columns in Each Array) in the 1-D *a*. If *a* has more than one dimension, the size shape will be inserted into the axis dimension, so the output ```ndim``` will be ```a.ndim - 1 + len(size)```. Default is None, in which case a single value is returned.\n",
    "* *replace* - Optional parameter of whether the sample is with or without replacement. The value (if chosen) for this parameter may be boolean.\n",
    "* *p* - Optional parameter. The probabilities associated with each entry in *a*. If not given the sample assumes a uniform distribution over all entries in *a*. The value (if chosen) for this parameter may be an one dimensional array-like of integers.\n",
    "* *axis* - Optional parameter. The axis along which the selection is performed. The default is 0. The value (if chosen) for this parameter may be an integer.\n",
    "* *shuffle* - Optional parameter. Decides whether the sample is shuffled when sampling without replacement. The default is True, if False selected a speedup is provided. The value (if chosen) for this parameter may be boolean. \n",
    "\n",
    "The return from this function is a single item an array of random samples.\n",
    "\n",
    "It should be noted that a ```ValueError``` may be rasied if:\n",
    "* *a* is an integer and less than zero,\n",
    "* *p* is not 1-dimensional,\n",
    "* *a* is array-like with a size 0\n",
    "* *p* is not a vector of probabilities\n",
    "* *a* and *p* have different lengths\n",
    "* ```replace=False``` and the sample size is greater than the population size.\n",
    "\n",
    "This fuction will now be highlighted in the below examples:"
   ]
  },
  {
   "cell_type": "code",
   "execution_count": 12,
   "metadata": {},
   "outputs": [
    {
     "data": {
      "text/plain": [
       "array([ 9,  1,  7,  5,  5,  6,  4,  8,  0,  9, 10,  4,  0,  8,  4,  9,  9,\n",
       "        1,  6, 10])"
      ]
     },
     "execution_count": 12,
     "metadata": {},
     "output_type": "execute_result"
    }
   ],
   "source": [
    "#Generate an uniform random sample from 0 to 10 of 20 values\n",
    "rng.choice(11, 20)"
   ]
  },
  {
   "cell_type": "code",
   "execution_count": 13,
   "metadata": {},
   "outputs": [
    {
     "data": {
      "text/plain": [
       "array([ 7,  2,  8,  5, 10,  9,  1,  5,  2, 10,  7,  7,  2,  0,  1,  7,  0,\n",
       "        8,  8,  7])"
      ]
     },
     "execution_count": 13,
     "metadata": {},
     "output_type": "execute_result"
    }
   ],
   "source": [
    "#It should be noted that this is the equivalent to rng.integers(0,11,20)\n",
    "rng.integers(0,11,20)"
   ]
  },
  {
   "cell_type": "code",
   "execution_count": 14,
   "metadata": {},
   "outputs": [
    {
     "name": "stdout",
     "output_type": "stream",
     "text": [
      "[ 0  5  5  5  2  1  7  5  7  8  1  5  5  2  5  5  0  7 10  2  1  2  1  5\n",
      "  0  5  5  1  5  0  0  2  1  1  2  5  0  1  5  5  2  1  0  2  7  5  1  8\n",
      "  1  0]\n"
     ]
    }
   ],
   "source": [
    "#Generate an non-uniform random sample from 0 to 10 of 50 values\n",
    "a = rng.choice(11, 50, p=[0.1, 0.2, 0.2, 0, 0.02, 0.25, 0.0, 0.1, 0.05, 0.05, 0.03])\n",
    "print(a)"
   ]
  },
  {
   "cell_type": "markdown",
   "metadata": {},
   "source": [
    "The resulting random sample can also be displayed visually using seaborn and matplotlib.pyplot:"
   ]
  },
  {
   "cell_type": "code",
   "execution_count": 15,
   "metadata": {},
   "outputs": [
    {
     "data": {
      "text/plain": [
       "Text(0, 0.5, 'Frequency')"
      ]
     },
     "execution_count": 15,
     "metadata": {},
     "output_type": "execute_result"
    },
    {
     "data": {
      "image/png": "[encoded data removed]",
      "text/plain": [
       "<Figure size 432x288 with 1 Axes>"
      ]
     },
     "metadata": {},
     "output_type": "display_data"
    }
   ],
   "source": [
    "#Visualise the above Random Sample\n",
    "sns.distplot(a)\n",
    "plt.xlabel(\"Random Numbers\")\n",
    "plt.ylabel(\"Frequency\")"
   ]
  },
  {
   "cell_type": "code",
   "execution_count": 16,
   "metadata": {},
   "outputs": [
    {
     "name": "stdout",
     "output_type": "stream",
     "text": [
      "[ 56  78  80  47  67  13  44  53  42  84  11  71  22  64  27  46  35  92\n",
      "  77  14  69  18  73  65  85  30   9  48  39  97  63  41  91  10  83   2\n",
      "  68  75  87   1  86  37  26  38 100   3  54  29  60  74]\n"
     ]
    }
   ],
   "source": [
    "#Generate a uniform random sample from 0 to 100 of 50 values, without replacement:\n",
    "y = np.random.choice(101, 50, replace=False)\n",
    "print(y)"
   ]
  },
  {
   "cell_type": "markdown",
   "metadata": {},
   "source": [
    "The resulting random sample can also be displayed visually using seaborn and matplotlib.pyplot:"
   ]
  },
  {
   "cell_type": "code",
   "execution_count": 17,
   "metadata": {},
   "outputs": [
    {
     "data": {
      "text/plain": [
       "Text(0, 0.5, 'Frequency')"
      ]
     },
     "execution_count": 17,
     "metadata": {},
     "output_type": "execute_result"
    },
    {
     "data": {
      "image/png": "[encoded data removed]",
      "text/plain": [
       "<Figure size 432x288 with 1 Axes>"
      ]
     },
     "metadata": {},
     "output_type": "display_data"
    }
   ],
   "source": [
    "#Visualise the above Random Sample\n",
    "sns.distplot(y)\n",
    "plt.xlabel(\"Random Numbers\")\n",
    "plt.ylabel(\"Frequency\")"
   ]
  },
  {
   "cell_type": "markdown",
   "metadata": {},
   "source": [
    "This function can also be used for non-numerical arrays."
   ]
  },
  {
   "cell_type": "code",
   "execution_count": 18,
   "metadata": {},
   "outputs": [
    {
     "name": "stdout",
     "output_type": "stream",
     "text": [
      "['Rome' 'London' 'Istanbul']\n"
     ]
    }
   ],
   "source": [
    "#Generate a uniform random sample of 3 European citys form a list of 10, without replacement:\n",
    "cityList = [\"Dublin\", \"London\", \"Rome\", \"Paris\", \"Berlin\", \"Istanbul\", \"Moscow\", \"Madrid\", \"Lisbon\", \"Zürich,\"]\n",
    "x = np.random.choice(cityList, 3, replace=False)\n",
    "print(x)"
   ]
  },
  {
   "cell_type": "markdown",
   "metadata": {},
   "source": [
    "#### 2.1.4 Bytes"
   ]
  },
  {
   "cell_type": "markdown",
   "metadata": {},
   "source": [
    "This function returns random bytes.<sup>[27](#myfootnote27)</sup>\n",
    "\n",
    "The method for generating the random bytes is as follows: \n",
    "**```Generator.bytes(length)```**\n",
    "\n",
    "The parameter of the above method is:<sup>[28](#myfootnote28)</sup>\n",
    "* *length* - Number of random bytes. The value for this parameter must be an integer.\n",
    "\n",
    "The return from this function is a String of length *length (figure)*.\n",
    "\n",
    "This will now be highlighted in the below example:"
   ]
  },
  {
   "cell_type": "code",
   "execution_count": 19,
   "metadata": {},
   "outputs": [
    {
     "data": {
      "text/plain": [
       "b'\\x9bQ\\x15PB0c\\xd0\\xf03}TN\\xdb\\xbd-&+\\xfe\\x89'"
      ]
     },
     "execution_count": 19,
     "metadata": {},
     "output_type": "execute_result"
    }
   ],
   "source": [
    "#Return 20 Random Bytes\n",
    "rng.bytes(20)"
   ]
  },
  {
   "cell_type": "markdown",
   "metadata": {},
   "source": [
    "Note the *\\x* indicates an escape character in which the resylt can't be displayed correctly otherwise.<sup>[29](#myfootnote29)</sup>"
   ]
  },
  {
   "cell_type": "markdown",
   "metadata": {},
   "source": [
    "### Sction 2.2 - Permutations"
   ]
  },
  {
   "cell_type": "markdown",
   "metadata": {},
   "source": [
    "A permutation is a mathematical technique that determines the number of possible arrangements in a set when the order of the arrangements matters.<sup>[30](#myfootnote30)</sup> While they may seem similar, it is important to note that permutations and combinations differ because in combinations the order of the arrangment is not imporant.<sup>[31](#myfootnote31)</sup> An example to highlight this different is the pin to your bank account. You pin is a \n",
    "permutation, as it needs to be entered in the correct order to access your bank account, if it was a combination, the order of the numbers would not matter.\n",
    "\n",
    "Statistically speaking, permutation is described as *n* distinct objects taken *r* at a time. Meaning that *n* refers to the number of objects from which the permutation is formed; and *r* refers to the number of objects used to form the permutation.<sup>[32](#myfootnote32)</sup> The mathematical formula for this can be seen in the image below:\n",
    "\n",
    "<img align=\"centre\" width=\"350\" height=\"350\" img src=\"https://www.bizskinny.com/images/Permutation-Formula.PNG\">\n",
    "\n",
    "\n",
    "To highlight this foumula we will use the following example. Suppose we have a set of three letters: X, Y, and Z, and we want to see how many ways we can arrange 2 letters from that set. Each possible arrangement would be an example of a permutation. The complete list of possible permutations would be: XY, XZ, YX, YZ, ZX, and ZY. As the permutation was formed from 3 letters (X, Y, and Z) n = 3; and the permutation consisted of 2 letters, so k = 2.<sup>[33](#myfootnote33)</sup>\n",
    "\n",
    "Within numpy.random package there are two functions which use Permutations:\n",
    "1. Shuffle\n",
    "2. Permutation"
   ]
  },
  {
   "cell_type": "markdown",
   "metadata": {},
   "source": [
    "#### 2.2.1 Shuffle"
   ]
  },
  {
   "cell_type": "markdown",
   "metadata": {},
   "source": [
    "The function modifies a sequence in-place by shuffling its contents. It should be noted this function only shuffles the array along the first axis of a multi-dimensional array. The order of sub-arrays is changed but their contents remains the same.\n",
    "\n",
    "The method for modifying a sequence in-place is as follows: \n",
    "**```Generator.shuffle(x, axis=0)```**\n",
    "\n",
    "The parameter of the above method is:<sup>[34](#myfootnote34)</sup>\n",
    "* *x* - The array or list to be shuffled. The value for this parameter must be an array-like of integers.\n",
    "* *axis* - Optional parameter. The axis along which *x* is shuffled along. The default is 0 and it is only supported on ndarray objects. The value (if chosen) for this parameter may be an integer.\n",
    "\n",
    "The shuffle function will now be highlighted in the below examples:"
   ]
  },
  {
   "cell_type": "code",
   "execution_count": 20,
   "metadata": {},
   "outputs": [
    {
     "data": {
      "text/plain": [
       "array([ 3, 19, 18, 10,  8,  7, 14,  9, 11, 17, 13,  2, 15,  5, 12,  0,  4,\n",
       "       16,  6,  1])"
      ]
     },
     "execution_count": 20,
     "metadata": {},
     "output_type": "execute_result"
    }
   ],
   "source": [
    "#Randomly shuffle the integers 0 to 20\n",
    "arr = np.arange(20)\n",
    "rng.shuffle(arr)\n",
    "arr"
   ]
  },
  {
   "cell_type": "markdown",
   "metadata": {},
   "source": [
    "This function can also be used for non-numerical arrays:"
   ]
  },
  {
   "cell_type": "code",
   "execution_count": 21,
   "metadata": {},
   "outputs": [
    {
     "data": {
      "text/plain": [
       "['Man City',\n",
       " 'Arsenal',\n",
       " 'Spurs',\n",
       " 'Liverpool',\n",
       " 'Southampton',\n",
       " 'Man United',\n",
       " 'Chelsea',\n",
       " 'Leeds',\n",
       " 'Everton',\n",
       " 'Leicester']"
      ]
     },
     "execution_count": 21,
     "metadata": {},
     "output_type": "execute_result"
    }
   ],
   "source": [
    "#Randomly shuffle 10 Football Teams\n",
    "Teams = [\"Arsenal\", \"Liverpool\", \"Man United\", \"Man City\", \"Spurs\", \"Chelsea\", \"Southampton\", \n",
    "         \"Leicester\", \"Everton\", \"Leeds\"]\n",
    "rng.shuffle(Teams)\n",
    "Teams"
   ]
  },
  {
   "cell_type": "markdown",
   "metadata": {},
   "source": [
    "We can also shuffle integers generate from the *np.arange* function:"
   ]
  },
  {
   "cell_type": "code",
   "execution_count": 22,
   "metadata": {},
   "outputs": [
    {
     "data": {
      "text/plain": [
       "array([19, 10, 14, 11, 17,  5,  2, 16, 13,  4,  6, 20, 12,  1,  9,  7,  3,\n",
       "       18,  0, 15,  8])"
      ]
     },
     "execution_count": 22,
     "metadata": {},
     "output_type": "execute_result"
    }
   ],
   "source": [
    "#Shuffle the range of 0-20 generated by np.arange\n",
    "List = np.arange(21)\n",
    "rng.shuffle(List)\n",
    "List"
   ]
  },
  {
   "cell_type": "markdown",
   "metadata": {},
   "source": [
    "#### 2.2.1 Permutation"
   ]
  },
  {
   "cell_type": "markdown",
   "metadata": {},
   "source": [
    "The function randomly permutes (rearranges) a sequence, or returns a permuted range. It should be noted that depending on the input the function operates differently.\n",
    "\n",
    "The method for randomly permuting a sequence is as follows: \n",
    "**```Generator.permutation(x, axis=0)```**\n",
    "\n",
    "The parameter of the above method is:<sup>[35](#myfootnote35)</sup>\n",
    "* *x* - The array or list to be permuted. If *x* is an integer, randomly permute ```np.arange(x)```. If *x* is an array, make a copy and shuffle the elements randomly.<sup>[36](#myfootnote36)</sup> The value for this parameter must be an integer or an array-like of integers.\n",
    "* *axis* - Optional parameter. The axis along which *x* is shuffled along. The default is 0. The value (if chosen) for this parameter may be an integer.\n",
    "\n",
    "The shuffle function will now be highlighted in the below examples:"
   ]
  },
  {
   "cell_type": "code",
   "execution_count": 23,
   "metadata": {},
   "outputs": [
    {
     "data": {
      "text/plain": [
       "array([3, 2, 4, 0, 1])"
      ]
     },
     "execution_count": 23,
     "metadata": {},
     "output_type": "execute_result"
    }
   ],
   "source": [
    "#As x in an integer the function will assume the input is a range and randomly permute np.arange(x)\n",
    "rng.permutation(5)"
   ]
  },
  {
   "cell_type": "code",
   "execution_count": 24,
   "metadata": {},
   "outputs": [
    {
     "data": {
      "text/plain": [
       "array([44,  7, 11,  3,  2])"
      ]
     },
     "execution_count": 24,
     "metadata": {},
     "output_type": "execute_result"
    }
   ],
   "source": [
    "#As x is an array the function will make a copy and shuffle the elements randomly\n",
    "rng.permutation([2, 3, 7, 11, 44])"
   ]
  },
  {
   "cell_type": "markdown",
   "metadata": {},
   "source": [
    "## Section 3 - Explain the Use and Purpose of at Least Five “Distributions” Functions"
   ]
  },
  {
   "cell_type": "markdown",
   "metadata": {},
   "source": [
    "In this section we will explore the following five distribution functions in the numpy.random package:\n",
    "1. Normal\n",
    "2. Binomial\n",
    "3. Poisson \n",
    "4. Hypergeometric\n",
    "5. Laplace"
   ]
  },
  {
   "cell_type": "markdown",
   "metadata": {},
   "source": [
    "### 3.1 Normal Distribution"
   ]
  },
  {
   "cell_type": "markdown",
   "metadata": {},
   "source": [
    "The normal distribution, also known as Gaussian distribution (after the German mathematician Carl Friedrich Gauss<sup>[37](#myfootnote37)</sup>) is viewed as one of the most important probability distributions.<sup>[38](#myfootnote38)</sup> This is due to the fact that it fits many natural phenomena such as; heights, blood pressure, measurement error, and IQ scores. <sup>[39](#myfootnote39)</sup>\n",
    "\n",
    "The normal distribution is a probability function that describes how the values of a variable are distributed. It is a symmetric distribution where most of the observations cluster around the central peak and the probabilities for values further away from the mean taper off equally in both directions. Extreme values in both tails of the distribution are similarly unlikely. As a result it is also know as the Bell Curve.<sup>[40](#myfootnote40)</sup> A sample normal distribution can be seen in the image below:\n",
    "\n",
    "\n",
    "<img align=\"centre\" width=\"350\" height=\"350\" img src=\"https://mathbitsnotebook.com/Algebra2/Statistics/normalturqa.jpg\">\n",
    "\n",
    "\n",
    "The graph of the normal distribution depends on two factors, the mean and the standard deviation. The mean of the distribution determines the location of the center of the graph, and the standard deviation determines the height and width of the graph. When the standard deviation is small, the curve is tall and narrow, and when the standard deviation is big, the curve is short and wide.<sup>[41](#myfootnote41)</sup> As a result, the normal distribution works best when the sample size is very large.<sup>[42](#myfootnote42)</sup>\n",
    "\n",
    "It should also be noted that every normal distribution curve (regardless of its mean or standard deviation) conforms to the 68-95-99.7 rule<sup>[43](#myfootnote43)</sup>. This is that:\n",
    "* About 68% of the area under the curve falls within 1 standard deviation of the mean.\n",
    "* About 95% of the area under the curve falls within 2 standard deviations of the mean.\n",
    "* About 99.7% of the area under the curve falls within 3 standard deviations of the mean.\n",
    "\n",
    "This rule can also be seen in graphical form below:\n",
    "\n",
    "<img align=\"centre\" width=\"450\" height=\"450\" img src=\"https://miro.medium.com/max/1400/1*IZ2II2HYKeoMrdLU5jW6Dw.png\">\n",
    "\n",
    "The normal distribution function in numpy draws random samples from a normal (Gaussian) distribution.\n",
    "\n",
    "The method for achieving this is as follows: \n",
    "**```numpy.random.normal(loc=0.0, scale=1.0, size=None)```**\n",
    "\n",
    "The parameter of the above method is:<sup>[44](#myfootnote44)</sup>\n",
    "* *loc* - Mean or centre of the distribution. The value for this parameter must be a flot or an array-like of floats.\n",
    "* *scale* - Standard deviation i.e the spread or width, of the distribution. The value for this parameter must be a non-negative flot or an array-like of floats.\n",
    "* *size* - Dictates the output shape. If the given shape is, e.g., ```size=(1, 4, 7)```then ```1 * 4 * 7``` samples are drawn.  If size is ```None``` (default), a single value is returned if ```loc``` and ```scale``` are both scalars. Otherwise, ```np.broadcast(loc, scale).size``` samples are drawn.\n",
    "\n",
    "The normal distribution function will now be highlighted in the below examples:"
   ]
  },
  {
   "cell_type": "code",
   "execution_count": 25,
   "metadata": {},
   "outputs": [
    {
     "data": {
      "text/plain": [
       "Text(0, 0.5, 'Frequency')"
      ]
     },
     "execution_count": 25,
     "metadata": {},
     "output_type": "execute_result"
    },
    {
     "data": {
      "image/png": "[encoded data removed]",
      "text/plain": [
       "<Figure size 432x288 with 1 Axes>"
      ]
     },
     "metadata": {},
     "output_type": "display_data"
    }
   ],
   "source": [
    "#Generate and display 50 random numbers from the Normal Distribution\n",
    "c = np.random.normal(size=50)\n",
    "sns.distplot(c)\n",
    "plt.xlabel(\"Random Numbers\")\n",
    "plt.ylabel(\"Frequency\")"
   ]
  },
  {
   "cell_type": "code",
   "execution_count": 26,
   "metadata": {},
   "outputs": [
    {
     "data": {
      "text/plain": [
       "Text(0, 0.5, 'Frequency')"
      ]
     },
     "execution_count": 26,
     "metadata": {},
     "output_type": "execute_result"
    },
    {
     "data": {
      "image/png": "[encoded data removed]",
      "text/plain": [
       "<Figure size 432x288 with 1 Axes>"
      ]
     },
     "metadata": {},
     "output_type": "display_data"
    }
   ],
   "source": [
    "#Generate and display 500 random numbers from the Normal Distribution with a mean of 0 and standard deviation of .1\n",
    "mu, sigma = 0, 0.1\n",
    "c = np.random.normal(mu, sigma, size=500)\n",
    "sns.distplot(c)\n",
    "plt.xlabel(\"Random Numbers\")\n",
    "plt.ylabel(\"Frequency\")"
   ]
  },
  {
   "cell_type": "markdown",
   "metadata": {},
   "source": [
    "As you can see the greater the sample size, the more accurate the normal distribution curve. Also the 68-95-99.7 rule is true in both examples. "
   ]
  },
  {
   "cell_type": "markdown",
   "metadata": {},
   "source": [
    "### 3.2 Binomial Distribution"
   ]
  },
  {
   "cell_type": "markdown",
   "metadata": {},
   "source": [
    "The binomial distribution is a probability distribution that describes the outcome of *n* independent trials in an experiment. Each trial is assumed to have only two outcomes, either success or failure and have a probability associated with success and failure.<sup>[45](#myfootnote45)</sup> The mathematical formula for this can be seen in the image below:<sup>[46](#myfootnote46)</sup>\n",
    "\n",
    "<img align=\"centre\" width=\"350\" height=\"350\" img src=\"https://www.onlinemathlearning.com/image-files/binomial-distribution-formula.png\">\n",
    "\n",
    "Binomial distribution can be used in many real world situations such as if a new drug is introduced to cure a disease, it either cures the disease (it’s successful) or it doesn’t cure the disease (it’s a failure). Also, if you purchase a lottery ticket, you’re either going to win money, or you aren’t. In essence, any situation in which there can only be a success or a failure can be represented by a binomial distribution.<sup>[47](#myfootnote47)</sup>\n",
    "\n",
    "The binomial distribution function in numpy draws samples from a binomial distribution. Samples are drawn from a binomial distribution with specified parameters, *n* trials and *p* probability of success where *n* an integer greater than or equal to 0 and *p* is in the interval (0 to 1). Note *n* may be input as a float, but it is truncated to an integer in use i.e. limiting the number of digits right of the decimal point.\n",
    "\n",
    "The method for achieving this is as follows: \n",
    "**```numpy.random.binomial(n, p, size=None)```**\n",
    "\n",
    "The parameter of the above method is:<sup>[48](#myfootnote48)</sup>\n",
    "* *n* - Parameter of the distribution, must be greater than or equal to 0. Floats are also accepted, but as stated above, they will be truncated to integers. The value for this parameter must be an integer or an array-like of integers.\n",
    "* *p* - Parameter of the distribution, must be beteen 0 and 1. The value for this parameter must be a non-negative flot or an array-like of floats.\n",
    "* *size* - Dictates the output shape. If the given shape is, e.g., ```size=(2, 3, 6)```then ```2 * 3 * 6``` samples are drawn.  If size is ```None``` (default), a single value is returned if ```n``` and ```p``` are both scalars. Otherwise, ```np.broadcast(n, p).size``` samples are drawn.\n",
    "\n",
    "The output for the the binomial distribution function drawn samples from the parameterized binomial distribution, where each sample is equal to the number of successes over the *n* trials.\n",
    "\n",
    "The binomial distribution function will now be highlighted in the below example (developed from the work of Tony Yiu<sup>[49](#myfootnote49)</sup>):"
   ]
  },
  {
   "cell_type": "markdown",
   "metadata": {},
   "source": [
    "In this example we will run a stylized real world case in which a technology company is trying to improve it's ROI (Return on Investment) on it's app launchs. From analysis we have gathered the following information:\n",
    "* The company develops on average 2 new apps a year.\n",
    "* The probability of a conversion for each app is 10%.\n",
    "* The average revenue to the comapany for each conversion is €100,000.\n",
    "* The company has 1000 employees.\n",
    "* Each employee is paid on average €22,500 a year.\n",
    "* The yearly fixed costs for company is calculated at €10,000,000.\n",
    "\n",
    "As a result we can see that:\n",
    "* n = 2\n",
    "* p = 10%"
   ]
  },
  {
   "cell_type": "code",
   "execution_count": 27,
   "metadata": {},
   "outputs": [
    {
     "name": "stdout",
     "output_type": "stream",
     "text": [
      "Average Conversions per Employee: 0.18\n",
      "Standard Deviation of Conversions per Employee: 0.41\n",
      "Total Conversions: 176\n",
      "Total Revenues: 17600000\n",
      "Total Expense: 32500000\n",
      "Total Profits: -14900000\n"
     ]
    }
   ],
   "source": [
    "#Calculating the Binomial Distribution\n",
    "#Number of employees\n",
    "employees = 1000\n",
    "#Cost per employee\n",
    "wage = 22500\n",
    "#Number of new apps created a year\n",
    "n = 2\n",
    "#Probability of success for each app\n",
    "p = 0.1\n",
    "#Revenue per product\n",
    "revenue = 100000\n",
    "#Binomial random variables of the technology company\n",
    "conversions = np.random.binomial(n, p, size=employees)\n",
    "#Print some key metrics of the technology company \n",
    "print('Average Conversions per Employee: ' + str(round(np.mean(conversions), 2)))\n",
    "print('Standard Deviation of Conversions per Employee: ' + str(round(np.std(conversions), 2)))\n",
    "print('Total Conversions: ' + str(np.sum(conversions)))\n",
    "print('Total Revenues: ' + str(np.sum(conversions)*revenue))\n",
    "print('Total Expense: ' + str(employees*wage + 10000000))\n",
    "print('Total Profits: ' + str(np.sum(conversions)*revenue - employees*wage - 10000000))"
   ]
  },
  {
   "cell_type": "markdown",
   "metadata": {},
   "source": [
    "As we can see the manufacturing company is expected to make a loss. While the above calculations predict a loss it must be remembered that these are results for just one randomly generated year. Let’s look at the profits for the manufacturing company over 1000 simulations and see how the yearly profit varies:"
   ]
  },
  {
   "cell_type": "code",
   "execution_count": 28,
   "metadata": {},
   "outputs": [
    {
     "data": {
      "text/plain": [
       "Text(0, 0.5, 'Frequency')"
      ]
     },
     "execution_count": 28,
     "metadata": {},
     "output_type": "execute_result"
    },
    {
     "data": {
      "image/png": "[encoded data removed]",
      "text/plain": [
       "<Figure size 1008x504 with 1 Axes>"
      ]
     },
     "metadata": {},
     "output_type": "display_data"
    }
   ],
   "source": [
    "# Simulate 1000 iterations of the above calculations\n",
    "\n",
    "# Number of simulations\n",
    "sims = 1000\n",
    "\n",
    "sim_conversions = [np.sum(np.random.binomial(n, p, size=employees)) for i in range(sims)]\n",
    "sim_profits = np.array(sim_conversions)*revenue - employees*wage - 5000000\n",
    "\n",
    "# Plot the results as a histogram\n",
    "fig, ax = plt.subplots(figsize=(14,7))\n",
    "ax = sns.distplot(sim_profits, bins=20, label='simulation results')\n",
    "ax.set_xlabel(\"Profits\",fontsize=16)\n",
    "ax.set_ylabel(\"Frequency\",fontsize=16)"
   ]
  },
  {
   "cell_type": "markdown",
   "metadata": {},
   "source": [
    "As we can see in the above graph the binomial distribution almost certainly predicts company will generate a loss. This result would also have a severe impact on the companys share price and as a result, a greater ROI will be sought."
   ]
  },
  {
   "cell_type": "markdown",
   "metadata": {},
   "source": [
    "Through a complete overhall of it's operations the company has been able to streamline it's operations. This has resulted in an increase in the amount of new apps produced a year to 4 and an increase in the probability of success for each apps to 12%.\n",
    "\n",
    "With these improvements in place we will now eaxmine the effects have on the companys profits:"
   ]
  },
  {
   "cell_type": "code",
   "execution_count": 29,
   "metadata": {},
   "outputs": [
    {
     "name": "stdout",
     "output_type": "stream",
     "text": [
      "Average Conversions per Employee: 0.18\n",
      "Standard Deviation of Conversions per Employee: 0.41\n",
      "Total Conversions: 471\n",
      "Total Revenues: 47100000\n",
      "Total Expense: 32500000\n",
      "Total Profits: 14600000\n"
     ]
    }
   ],
   "source": [
    "#Calculating the New Binomial distribution\n",
    "#Number of employees\n",
    "employees = 1000\n",
    "#Cost per employee\n",
    "wage = 22500\n",
    "#New number of new apps created a year\n",
    "n = 4\n",
    "#New probability of success for each app\n",
    "p = 0.12\n",
    "#Revenue per app\n",
    "revenue = 100000\n",
    "#New binomial random variables of the technology company\n",
    "new_conversions = np.random.binomial(n, p, size=employees)\n",
    "#Print some key metrics of the technology company\n",
    "print('Average Conversions per Employee: ' + str(round(np.mean(conversions), 2)))\n",
    "print('Standard Deviation of Conversions per Employee: ' + str(round(np.std(conversions), 2)))\n",
    "print('Total Conversions: ' + str(np.sum(new_conversions)))\n",
    "print('Total Revenues: ' + str(np.sum(new_conversions)*revenue))\n",
    "print('Total Expense: ' + str(employees*wage + 10000000))\n",
    "print('Total Profits: ' + str(np.sum(new_conversions)*revenue - employees*wage - 10000000))"
   ]
  },
  {
   "cell_type": "markdown",
   "metadata": {},
   "source": [
    "As we can see as a resutl of the improvements the company's profits are now over €1 million. Again to fully investigate these changes we will conduct over 1000 simulations of the new results and see how the yearly profit varies: "
   ]
  },
  {
   "cell_type": "code",
   "execution_count": 30,
   "metadata": {},
   "outputs": [
    {
     "data": {
      "text/plain": [
       "Text(0, 0.5, 'Frequency')"
      ]
     },
     "execution_count": 30,
     "metadata": {},
     "output_type": "execute_result"
    },
    {
     "data": {
      "image/png": "[encoded data removed]",
      "text/plain": [
       "<Figure size 1008x504 with 1 Axes>"
      ]
     },
     "metadata": {},
     "output_type": "display_data"
    }
   ],
   "source": [
    "# Simulate 100 iterations with the new calculations\n",
    "\n",
    "# Number of simulations\n",
    "sims = 1000\n",
    "\n",
    "imp_conversions = [np.sum(np.random.binomial(n, p, size=employees)) for i in range(sims)]\n",
    "imp_profits = [np.array(imp_conversions)*revenue - employees*wage - 6000000]\n",
    "\n",
    "# Plot the results as a histogram\n",
    "fig, ax = plt.subplots(figsize=(14,7) )\n",
    "ax = sns.distplot(imp_profits, bins=20, label='simulation results', color='red')\n",
    "ax.set_xlabel(\"Profits\",fontsize=16)\n",
    "ax.set_ylabel(\"Frequency\",fontsize=16)"
   ]
  },
  {
   "cell_type": "markdown",
   "metadata": {},
   "source": [
    "As we can see the with new binomial distribution the company now has a far higher chance of having making a profit of over €1.5 million. We will now plot the old and new binomial distributions to visually highlight the changes. "
   ]
  },
  {
   "cell_type": "code",
   "execution_count": 31,
   "metadata": {},
   "outputs": [
    {
     "data": {
      "text/plain": [
       "<matplotlib.legend.Legend at 0x123c6f160>"
      ]
     },
     "execution_count": 31,
     "metadata": {},
     "output_type": "execute_result"
    },
    {
     "data": {
      "image/png": "[encoded data removed]",
      "text/plain": [
       "<Figure size 1008x504 with 1 Axes>"
      ]
     },
     "metadata": {},
     "output_type": "display_data"
    }
   ],
   "source": [
    "# Plot the new results versus the old as a histogram\n",
    "fig, ax = plt.subplots(figsize=(14,7))\n",
    "ax = sns.distplot(sim_profits, bins=20, label='Original Simulation Results')\n",
    "ax = sns.distplot(imp_profits, bins=20, label='Improved Simulation Results', color='red')\n",
    "ax.set_xlabel(\"Profits\",fontsize=16)\n",
    "ax.set_ylabel(\"Frequency\",fontsize=16)\n",
    "plt.legend()"
   ]
  },
  {
   "cell_type": "markdown",
   "metadata": {},
   "source": [
    "As we can see  the profit produced by each employee follows a binomial distribution, As a result if increase both the n (number of products made a year) and p (probability of conversion for each product) parameters, higher profits are generated.<sup>[50](#myfootnote50)</sup> "
   ]
  },
  {
   "cell_type": "markdown",
   "metadata": {},
   "source": [
    "### 3.3 Poisson Distribution"
   ]
  },
  {
   "cell_type": "markdown",
   "metadata": {},
   "source": [
    "The Poisson distribution is a discrete distribution that measures the probability of a given number of events happening in a specified time period.<sup>[51](#myfootnote51)</sup>  Named after French mathematician Siméon Denis Poisson, the poisson distribution, is a discrete probability distribution,  meaning that the event can only be measured as occurring or not as occurring, meaning the variable can only be measured in whole numbers.<sup>[52](#myfootnote52)</sup>The mathematical formula for this can be seen in the image below:<sup>[53](#myfootnote53)</sup>\n",
    "\n",
    "<img align=\"centre\" width=\"350\" height=\"350\" img src=\"https://www.onlinemathlearning.com/image-files/poisson-distribution-formula.png\">\n",
    "\n",
    "Euler's Constant refered above is a mathematical expression for the limit of the sum of 1 + 1/2 + 1/3 + 1/4 ... + 1/*n*, minus the natural log of *n* as *n* approaches infinity.<sup>[54](#myfootnote54)</sup> \n",
    "\n",
    "The Poisson distribution can also be used for the number of events in other specified intervals such as distance, area or volume.<sup>[55](#myfootnote55)</sup> Real life examples of the use of poisson distribution include the number of traffic accidents and the number of phone calls received within a given time period.<sup>[56](#myfootnote56)</sup>\n",
    "\n",
    "The method for achieving this is as follows: \n",
    "**```numpy.random.poisson(lam=1.0, size=None)```**\n",
    "\n",
    "The parameter of the above method is:<sup>[57](#myfootnote57)</sup>\n",
    "* *n* - Expectation of the interval. Must be greater than or equal to 0. A sequence of expectation intervals must be broadcastable over the requested size. The value for this parameter must be a float or an array-like of floats.\n",
    "* *size* - Dictates the output shape. If the given shape is, e.g., ```size=(5, 1, 4)```then ```5 * 1 * 4``` samples are drawn.  If size is ```None``` (default), a single value is returned if ```lam``` is a scalar. Otherwise, ```np.array(lam).size``` samples are drawn.\n",
    "\n",
    "The output for the the binomial distribution function drawn samples from the parameterized Poisson distribution.\n",
    "\n",
    "The poisson distribution function will now be highlighted in the below example:"
   ]
  },
  {
   "cell_type": "code",
   "execution_count": 32,
   "metadata": {},
   "outputs": [
    {
     "data": {
      "text/plain": [
       "Text(0, 0.5, 'Frequency')"
      ]
     },
     "execution_count": 32,
     "metadata": {},
     "output_type": "execute_result"
    },
    {
     "data": {
      "image/png": "[encoded data removed]",
      "text/plain": [
       "<Figure size 432x288 with 1 Axes>"
      ]
     },
     "metadata": {},
     "output_type": "display_data"
    }
   ],
   "source": [
    "#Poisson Distribution of 100 samples at an interval of 10\n",
    "x = rng.poisson(10, size=100)\n",
    "\n",
    "#Generate a distplot to visualise:\n",
    "sns.distplot(x)\n",
    "plt.xlabel(\"Random Numbers\")\n",
    "plt.ylabel(\"Frequency\")"
   ]
  },
  {
   "cell_type": "code",
   "execution_count": 33,
   "metadata": {},
   "outputs": [
    {
     "ename": "SyntaxError",
     "evalue": "invalid syntax (<ipython-input-33-9a67e37e04df>, line 13)",
     "output_type": "error",
     "traceback": [
      "\u001b[0;36m  File \u001b[0;32m\"<ipython-input-33-9a67e37e04df>\"\u001b[0;36m, line \u001b[0;32m13\u001b[0m\n\u001b[0;31m    Need ro relook at\u001b[0m\n\u001b[0m         ^\u001b[0m\n\u001b[0;31mSyntaxError\u001b[0m\u001b[0;31m:\u001b[0m invalid syntax\n"
     ]
    }
   ],
   "source": [
    "#The average number of major storms in your city is 2 per year. What is the probability that exactly 3 storms will hit your city next year?\n",
    "\n",
    "#Figure out the components you need to put into the equation.\n",
    "\n",
    "#μ = 2 (average number of storms per year, historically)\n",
    "#x = 3 (the number of storms we think might hit next year)\n",
    "#e = 2.71828 (e is Euler’s number, a constant)\n",
    "\n",
    "#s = rng.poisson(lam=(100., 500.), size=(100, 2))\n",
    "#count, bins, ignored = plt.hist(s, 14, density=True)\n",
    "#plt.show()\n",
    "\n",
    "Need ro relook at"
   ]
  },
  {
   "cell_type": "markdown",
   "metadata": {},
   "source": [
    "### 3.4 Hypergeometric Distribution"
   ]
  },
  {
   "cell_type": "markdown",
   "metadata": {},
   "source": [
    "The hypergeometric distribution, is a probability distribution in which selections are made from two groups without replacing members of the groups.<sup>[58](#myfootnote58)</sup> While similiar to the binomial distribution, the hypergeometric distribution differes due to the lack of replacements.<sup>[59](#myfootnote59)</sup> The binomial distribution though is a very good approximation of the hypergeometric distribution as long as you are sampling 5% or less of the population.<sup>[60](#myfootnote60)</sup>\n",
    "\n",
    "The hypergeometric distribution can be used in many real world situations such as the random selection of members for a team from a population of girls and boys, or the random seletion of a certain suit of cards from a pack.<sup>[61](#myfootnote61)</sup> TA sample hypergeometric distribution for three different scenarioscan be seen in the image below:\n",
    "\n",
    "<img align=\"centre\" width=\"400\" height=\"350\" img src=\"https://upload.wikimedia.org/wikipedia/en/thumb/1/1a/NoncentralHypergeometricCompare1.png/300px-NoncentralHypergeometricCompare1.png\">\n",
    "\n",
    "The method for achieving the NumPy hypergeometric distribution function is as follows:\n",
    "**```numpy.random.hypergeometric(ngood, nbad, nsample, size=None)```**\n",
    "\n",
    "The parameter of the above method is:<sup>[62](#myfootnote62)</sup>\n",
    "* *ngood* - Number of ways to make a good (positive) selection. Must be nonnegative i.e. either positive or equal to zero. The value for this parameter must be an integer or an array-like of integers.\n",
    "* *nbad* - Number of ways to make a bad (negative) selection. Must be nonnegative i.e. either positive or equal to zero. The value for this parameter must be an integer or an array-like of integers.\n",
    "* *nspample* - Number of items sampled. Must be at least 1 and at most ```ngood + nbad```. The value for this parameter must be an integer or an array-like of integers.\n",
    "* *size* - Dictates the output shape. If the given shape is, e.g., ```size=(2, 3, 1)```then ```2 * 3 * 1``` samples are drawn.  If size is ```None``` (default), a single value is returned if  ```ngood, nbad,``` and ```nsample``` are both scalars. Otherwise, ```np.broadcast(ngood, nbad, nsample).size``` samples are drawn.\n",
    "\n",
    "The hypergeometric distribution function will now be highlighted in the below examples:"
   ]
  },
  {
   "cell_type": "markdown",
   "metadata": {},
   "source": [
    "What is the probability of getting a spade in a 5 card hand in poker."
   ]
  },
  {
   "cell_type": "code",
   "execution_count": 34,
   "metadata": {},
   "outputs": [
    {
     "data": {
      "text/plain": [
       "(array([10.,  0., 17.,  0.,  0., 16.,  0.,  7.,  0.,  2.]),\n",
       " array([0. , 0.4, 0.8, 1.2, 1.6, 2. , 2.4, 2.8, 3.2, 3.6, 4. ]),\n",
       " <a list of 10 Patch objects>)"
      ]
     },
     "execution_count": 34,
     "metadata": {},
     "output_type": "execute_result"
    },
    {
     "data": {
      "image/png": "[encoded data removed]",
      "text/plain": [
       "<Figure size 432x288 with 1 Axes>"
      ]
     },
     "metadata": {},
     "output_type": "display_data"
    }
   ],
   "source": [
    "#There are  13 spades total in a deck (ngood), which means there are 39 other cards remaining (nbad). \n",
    "#It is a 5 card hand (nspample) and it is a 52 card deck (size)\n",
    "s = np.random.hypergeometric(13, 39, 5, 52)\n",
    "plt.xlabel('Number of Spades Drawn')\n",
    "plt.ylabel('Probability')\n",
    "plt.title('Probability of getting a Spade in a 5 card hand in Poker')\n",
    "plt.hist(s)"
   ]
  },
  {
   "cell_type": "markdown",
   "metadata": {},
   "source": [
    "Suppose we randomly select 5 cards without replacement from an ordinary deck of playing cards. What is the probability of getting exactly 2 red cards. Answer equal to precentage of 1 (100%)"
   ]
  },
  {
   "cell_type": "code",
   "execution_count": 35,
   "metadata": {},
   "outputs": [
    {
     "data": {
      "text/plain": [
       "0.04"
      ]
     },
     "execution_count": 35,
     "metadata": {},
     "output_type": "execute_result"
    }
   ],
   "source": [
    "s = np.random.hypergeometric(26, 26, 5, 2)\n",
    "sum(s>=2)/100. + sum(s<=3)/100"
   ]
  },
  {
   "cell_type": "markdown",
   "metadata": {},
   "source": [
    "### 3.5 Laplace Distribution"
   ]
  },
  {
   "cell_type": "markdown",
   "metadata": {},
   "source": [
    "The Laplace distribution (named after French mathematician Pierre Simon Laplace<sup>[63](#myfootnote63)</sup>) represents the distribution of differences between two independent variables having identical exponential distributions.<sup>[64](#myfootnote64)</sup> Also known as the Double Exponential distribution, the Laplace distribution is very similiar to the above mentioned Normal distribution in that it is unimodal (has one peak) and symmetrical. However, it has a sharper peak than the Normal distribution.<sup>[65](#myfootnote65)</sup> This difference can be seen in the image below:\n",
    "\n",
    "<img align=\"centre\" width=\"400\" height=\"350\" img src=\"https://www.johndcook.com/normal_laplace.svg\">\n",
    "\n",
    "The Laplace distribution is mainly used for modelling distributions with sharp peaks and long tails, such as rainfall and financial variables like stock returns.<sup>[66](#myfootnote66)</sup> Thr Laplace distribution draws samples with specified location (or mean) and scale (decay).\n",
    "\n",
    "The method for achieving this is as follows:\n",
    "**```numpy.random.laplace(loc=0.0, scale=1.0, size=None)```**\n",
    "\n",
    "XXXXXXThe parameter of the above method is:<sup>[62](#myfootnote62)</sup>XXXXXX\n",
    "* *ngood* - Number of ways to make a good (positive) selection. Must be nonnegative i.e. either positive or equal to zero. The value for this parameter must be an integer or an array-like of integers.\n",
    "* *nbad* - Number of ways to make a bad (negative) selection. Must be nonnegative i.e. either positive or equal to zero. The value for this parameter must be an integer or an array-like of integers.\n",
    "* *nspample* - Number of items sampled. Must be at least 1 and at most ```ngood + nbad```. The value for this parameter must be an integer or an array-like of integers.\n",
    "* *size* - Dictates the output shape. If the given shape is, e.g., ```size=(2, 3, 1)```then ```2 * 3 * 1``` samples are drawn.  If size is ```None``` (default), a single value is returned if  ```ngood, nbad,``` and ```nsample``` are both scalars. Otherwise, ```np.broadcast(ngood, nbad, nsample).size``` samples are drawn.\n",
    "\n",
    "The hypergeometric distribution function will now be highlighted in the below examples:"
   ]
  },
  {
   "cell_type": "markdown",
   "metadata": {},
   "source": [
    "## References\n",
    "----------------------------------------------------"
   ]
  },
  {
   "cell_type": "markdown",
   "metadata": {},
   "source": [
    "<a name=\"myfootnote1\">1</a>: Stack Overflow - Purpose of “%matplotlib inline”, <https://stackoverflow.com/questions/43027980/purpose-of-matplotlib-inline/43028034>\n",
    "\n",
    "<a name=\"myfootnote2\">2</a>: The Python Graph Gallery - 104 Seaborn Themes, <https://python-graph-gallery.com/104-seaborn-themes/>\n",
    "\n",
    "<a name=\"myfootnote3\">3</a>: Seaborn - Choosing color palettes, <https://seaborn.pydata.org/tutorial/color_palettes.html>\n",
    "\n",
    "<a name=\"myfootnote4\">4</a>: Geeks for Geeks - Random sampling in numpy | random() function, <https://www.geeksforgeeks.org/random-sampling-in-numpy-random-function/>\n",
    "\n",
    "<a name=\"myfootnote5\">5</a>: NumPy 1.19 Manual - What is NumPy?,<https://numpy.org/doc/stable/user/whatisnumpy.html>\n",
    "\n",
    "<a name=\"myfootnote6\">6</a>: Bernd Klein - Numpy Tutorial, <https://www.python-course.eu/numpy.php>\n",
    "\n",
    "<a name=\"myfootnote7\">7</a>: Numpy 1.19 Manual - NumPy: the absolute basics for beginners, <https://numpy.org/doc/stable/user/absolute_beginners.html>\n",
    "\n",
    "<a name=\"myfootnote8\">8</a>: Geeks for Geeks - Python Numpy, <https://www.geeksforgeeks.org/python-numpy/>\n",
    "\n",
    "<a name=\"myfootnote9\">9</a>: Vijay Singh Khatri - Understanding NumPy, <https://dzone.com/articles/understanding-numpy#:~:text=NumPy%20is%20a%20powerful%20Python,in%20easily%20performing%20numerical%20computations>\n",
    "\n",
    "<a name=\"myfootnote10\">10</a>: Dr Mads Haahr - Introduction to Randomness and Random Numbers, <https://www.random.org/randomness/#:~:text=As%20the%20word%20'pseudo'%20suggests,of%20numbers%20that%20appear%20random>\n",
    "\n",
    "<a name=\"myfootnote11\">11</a>: NumPy 1.19 Manual - Random sampling (numpy.random), <https://numpy.org/doc/stable/reference/random/index.html>\n",
    "\n",
    "<a name=\"myfootnote12\">12</a>: NumPy 1.19 Manual - Bit Generators, <https://numpy.org/doc/stable/reference/random/bit_generators/index.html>\n",
    "\n",
    "<a name=\"myfootnote13\">13</a>: NumPy 1.19 Manual - Random Generator, <https://numpy.org/doc/stable/reference/random/generator.html#numpy.random.Generator>\n",
    "\n",
    "<a name=\"myfootnote14\">14</a>: NumPy 1.19 Manual - Permuted Congruential Generator (64-bit, PCG64), <https://numpy.org/doc/stable/reference/random/bit_generators/pcg64.html#numpy.random.PCG64>\n",
    "\n",
    "<a name=\"myfootnote15\">15</a>: Adam Hayes - Simple Random Sample, <https://www.investopedia.com/terms/s/simple-random-sample.asp#:~:text=A%20simple%20random%20sample%20is,equal%20probability%20of%20being%20chosen.&text=An%20example%20of%20a%20simple,a%20company%20of%20250%20employees.>\n",
    "\n",
    "<a name=\"myfootnote16\">16</a>: Moore, David S. and George P. McCabe (2006) - Introduction to the Practice of Statistics, 5th edition, p. 219\n",
    "\n",
    "<a name=\"myfootnote17\">17</a>: Kahn Acamedy - Sampling methods Review, <https://www.khanacademy.org/math/statistics-probability/designing-studies/sampling-methods-stats/a/sampling-methods-review>\n",
    "\n",
    "<a name=\"myfootnote18\">18</a>: Wolfram Mathworld - Discrete Uniform Distribution, <https://mathworld.wolfram.com/DiscreteUniformDistribution.html>\n",
    "\n",
    "<a name=\"myfootnote19\">19</a>: Numpy 1.19 Manual - numpy.random.Generator.integers, <https://numpy.org/doc/stable/reference/random/generated/numpy.random.Generator.integers.html#numpy.random.Generator.integers>\n",
    "\n",
    "<a name=\"myfootnote20\">20</a>: Numpy 1.19 Manual - Data type objects (dtype), <https://numpy.org/doc/stable/reference/arrays.dtypes.html>\n",
    "\n",
    "<a name=\"myfootnote21\">21</a>: Freie Universität Berlin - Statistics and Geospatial Data Analysis: The Continuous Uniform Distribution, <https://www.geo.fu-berlin.de/en/v/soga/Basics-of-statistics/Continous-Random-Variables/Continuous-Uniform-Distribution/index.html>\n",
    "\n",
    "<a name=\"myfootnote22\">22</a>: UCD Maths Support Centre - Statistics: Uniform Distribution (Continuous), <https://www.ucd.ie/msc/t4media/Uniform%20Distribution.pdf>\n",
    "\n",
    "<a name=\"myfootnote23\">23</a>: Numpy 1.19 Manual - numpy.random.Generator.random, <https://numpy.org/doc/stable/reference/random/generated/numpy.random.Generator.random.html#numpy.random.Generator.random>\n",
    "\n",
    "<a name=\"myfootnote24\">24</a>: Numpy 1.19 Manual - The N-dimensional array (ndarray), <https://numpy.org/doc/stable/reference/arrays.ndarray.html#:~:text=An%20ndarray%20is%20a%20(usually,the%20sizes%20of%20each%20dimension.>\n",
    "\n",
    "<a name=\"myfootnote25\">25</a>: Joshua Ebner - How To Use Numpy Random Choice, <https://www.sharpsightlabs.com/blog/numpy-random-choice/>\n",
    "\n",
    "<a name=\"myfootnote26\">26</a>: Numpy 1.19 Manual - numpy.random.Generator.choice, <https://numpy.org/doc/stable/reference/random/generated/numpy.random.Generator.choice.html#numpy.random.Generator.choice>\n",
    "\n",
    "<a name=\"myfootnote27\">27</a>: Kite - Bytes, <https://www.kite.com/python/docs/numpy.random.RandomState.bytes> \n",
    "\n",
    "<a name=\"myfootnote28\">28</a>: Numpy 1.19 Manual - numpy.random.Generator.bytes, <https://numpy.org/doc/stable/reference/random/generated/numpy.random.Generator.bytes.html#numpy.random.Generator.bytes>\n",
    "\n",
    "<a name=\"myfootnote29\">29</a>: w3shools.com - Python Escape Characters, <https://www.w3schools.com/python/gloss_python_escape_characters.asp>\n",
    "\n",
    "<a name=\"myfootnote30\">30</a>: Corporate Finance Institute - Permutation, <https://corporatefinanceinstitute.com/resources/knowledge/other/permutation/>\n",
    "\n",
    "<a name=\"myfootnote31\">31</a>: Stat Trek - Combination Definition, <https://stattrek.com/statistics/dictionary.aspx?definition=combination>\n",
    "\n",
    "<a name=\"myfootnote32\">32</a>: Britannica Dictionary - Permutations and Combinations, <https://www.britannica.com/science/permutation>\n",
    "\n",
    "<a name=\"myfootnote33\">33</a>: Stat Trek - Permutation Definition, <https://stattrek.com/statistics/dictionary.aspx?definition=permutation>\n",
    "\n",
    "<a name=\"myfootnote34\">34</a>: Numpy 1.19 Manual - numpy.random.Generator.shuffle, <https://numpy.org/doc/stable/reference/random/generated/numpy.random.Generator.shuffle.html#numpy.random.Generator.shuffle>\n",
    "\n",
    "<a name=\"myfootnote35\">35</a>: Numpy 1.19 Manual - numpy.random.Generator.permutation, <https://numpy.org/doc/stable/reference/random/generated/numpy.random.Generator.permutation.html#numpy.random.Generator.permutation>\n",
    "\n",
    "<a name=\"myfootnote36\">36</a>: Geeks for Geeks - numpy.random.permutation() in Python, <https://www.geeksforgeeks.org/numpy-random-permutation-in-python/>\n",
    "\n",
    "<a name=\"myfootnote37\">37</a>: w3shools.com - Normal (Gaussian) Distribution, <https://www.w3schools.com/python/numpy_random_normal.asp>\n",
    "\n",
    "<a name=\"myfootnote38\">38</a>: Jim Frost - Normal Distribution in Statistics, <https://statisticsbyjim.com/basics/normal-distribution/>\n",
    "\n",
    "<a name=\"myfootnote39\">39</a>: Saul McLeod - Introduction to the Normal Distribution (Bell Curve), <https://www.simplypsychology.org/normal-distribution.html>\n",
    "\n",
    "<a name=\"myfootnote40\">40</a>: EW Weisstein - What is a Normal distribution?, <https://www.statisticshowto.com/probability-and-statistics/normal-distributions/>\n",
    "\n",
    "<a name=\"myfootnote40\">41</a>: Stat Trek - The Normal Distribution, <https://stattrek.com/probability-distributions/normal.aspx>\n",
    "\n",
    "<a name=\"myfootnote42\">42</a>: Hyper Physics - Gaussian Distribution Function, <http://hyperphysics.phy-astr.gsu.edu/hbase/Math/gaufcn.html>\n",
    "\n",
    "<a name=\"myfootnote43\">43</a>: Michael Galarnyk - Explaining the 68-95-99.7 rule for a Normal Distribution, <https://towardsdatascience.com/understanding-the-68-95-99-7-rule-for-a-normal-distribution-b7b7cbf760c2>\n",
    "\n",
    "<a name=\"myfootnote44\">44</a>: Numpy 1.19 Manual - numpy.random.normal, <https://numpy.org/doc/stable/reference/random/generated/numpy.random.normal.html?highlight=numpy.random.normal#numpy.random.normal>\n",
    "\n",
    "<a name=\"myfootnote45\">45</a>: R Tutorial - Binomial Distribution, <http://www.r-tutor.com/elementary-statistics/probability-distributions/binomial-distribution>\n",
    "\n",
    "<a name=\"myfootnote46\">46</a>: OnlineMathLearning.com - Binomial Distribution, <https://www.onlinemathlearning.com/binomial-distribution.html>\n",
    "\n",
    "<a name=\"myfootnote47\">47</a>: EW Weisstein - Binomial Distribution: Formula, What it is and How to use it, <https://www.statisticshowto.com/probability-and-statistics/binomial-theorem/binomial-distribution-formula/#:~:text=Many%20instances%20of%20binomial%20distributions,%2C%20or%20you%20aren't.>\n",
    "\n",
    "<a name=\"myfootnote48\">48</a>: Numpy 1.19 Manual - numpy.random.binomial, <https://numpy.org/doc/stable/reference/random/generated/numpy.random.binomial.html?highlight=binomial%20distribution>\n",
    "\n",
    "<a name=\"myfootnote49\">49</a>: Tony Yiu - Fun with the Binomial Distribution, <https://towardsdatascience.com/fun-with-the-binomial-distribution-96a5ecabf65b>\n",
    "\n",
    "<a name=\"myfootnote50\">50</a>: Stat Trek - The Binomial Distribution, <https://stattrek.com/probability-distributions/binomial.aspx>\n",
    "\n",
    "<a name=\"myfootnote51\">51</a>: Science Direct - Poisson Distribution, <https://www.sciencedirect.com/topics/mathematics/poisson-distribution>\n",
    "\n",
    "<a name=\"myfootnote52\">52</a>: Alexander Katz - Poisson Distribution, <https://brilliant.org/wiki/poisson-distribution/>\n",
    "\n",
    "<a name=\"myfootnote53\">53</a>: Kellogg School of Management - The Poisson and Exponential Distributions, <https://www.kellogg.northwestern.edu/faculty/weber/decs-430/Notes%20on%20the%20Poisson%20and%20exponential%20distributions.pdf>\n",
    "\n",
    "<a name=\"myfootnote54\">54</a>: Will Kenton - Euler's Constant, <https://www.investopedia.com/terms/e/eulers-constant.asp#:~:text=Euler's%20constant%20is%20a%20mathematical,derivative%20of%20a%20logarithmic%20function.>\n",
    "\n",
    "<a name=\"myfootnote55\">55</a>: Lumen Learning - Other Random Variables, <https://courses.lumenlearning.com/boundless-statistics/chapter/other-random-variables/>\n",
    "\n",
    "<a name=\"myfootnote56\">56</a>: Neil J. Salkind - Poisson Distribution, <https://methods.sagepub.com/Reference/encyc-of-research-design/n316.xml>\n",
    "\n",
    "<a name=\"myfootnote57\">57</a>: Numpy 1.19 Manual - numpy.random.poisson, <https://numpy.org/doc/stable/reference/random/generated/numpy.random.poisson.html>\n",
    "\n",
    "<a name=\"myfootnote58\">58</a>: Britannica Dictionary - Hypergeometric Distribution, <https://www.britannica.com/topic/hypergeometric-distribution>\n",
    "\n",
    "<a name=\"myfootnote59\">59</a>: EW Weisstein - Hypergeometric Distribution: Examples and Formula, <https://www.statisticshowto.com/hypergeometric-distribution-examples/>\n",
    "\n",
    "<a name=\"myfootnote60\">60</a>: Stat Trek - Hypergeometric Distribution, <https://stattrek.com/probability-distributions/hypergeometric.aspx>\n",
    "\n",
    "<a name=\"myfootnote61\">61</a>: Penn State - Eberly College of Science - 7.4 - Hypergeometric Distribution, <https://online.stat.psu.edu/stat414/lesson/7/7.4>\n",
    "\n",
    "<a name=\"myfootnote62\">62</a>: Numpy 1.19 Manual - numpy.random.hypergeometric, <https://numpy.org/doc/stable/reference/random/generated/numpy.random.hypergeometric.html>\n",
    "\n",
    "<a name=\"myfootnote63\">63</a>: Vose Software - Laplace Distribution, <https://www.vosesoftware.com/riskwiki/Laplacedistribution.php>\n",
    "\n",
    "<a name=\"myfootnote64\">64</a>: Science Direct - Laplace Distribution, <https://www.sciencedirect.com/topics/mathematics/laplace-distribution>\n",
    "\n",
    "<a name=\"myfootnote65\">65</a>: EW Weisstein - What is a Laplace Distribution?, <https://www.statisticshowto.com/laplace-distribution-double-exponential/>\n",
    "\n",
    "<a name=\"myfootnote66\">66</a>: Kyle Siegrist - The Standard Laplace Distribution, <https://www.randomservices.org/random/special/Laplace.html>"
   ]
  },
  {
   "cell_type": "markdown",
   "metadata": {},
   "source": [
    "## Bibliography\n",
    "----------------------------------------------------"
   ]
  },
  {
   "cell_type": "markdown",
   "metadata": {},
   "source": [
    "Within the course of this project the following sources were also used for research purposes:\n",
    "\n",
    "* Jarkko Toivonen - Data Analysis with Python, <https://saskeli.github.io/data-analysis-with-python-summer-2019/numpy.html>\n",
    "\n",
    "* w3shools.com - Random Numbers in NumPy, <https://www.w3schools.com/python/numpy_random.asp>\n",
    "\n",
    "* Geeks for Geeks - numpy.random.randn() in Python, <https://www.geeksforgeeks.org/numpy-random-randn-python/>\n",
    "\n",
    "* Chris Albon - Generating Random Numbers With NumPy, <https://chrisalbon.com/python/basics/generating_random_numbers_with_numpy/>\n",
    "\n",
    "* Wolfram Mathworld - Pseudorandom Number, <https://mathworld.wolfram.com/PseudorandomNumber.html>\n",
    "\n",
    "* Joshua Ebner - Numpy Random Seed Explained, <https://www.sharpsightlabs.com/blog/numpy-random-seed/>\n",
    "\n",
    "* Jason Brownlee - How to Generate Random Numbers in Python, <https://machinelearningmastery.com/how-to-generate-random-numbers-in-python/>\n",
    "\n",
    "* Justin Bois - Lesson 23: Random number generation, <http://justinbois.github.io/bootcamp/2020/lessons/l23_random_number_generation.html>\n",
    "\n",
    "* Jupyter Notebook - Markdown Cells, <https://jupyter-notebook.readthedocs.io/en/stable/examples/Notebook/Working%20With%20Markdown%20Cells.html>\n",
    "\n",
    "* Geeks for Geeks - numpy.random.choice() in Python, <https://www.geeksforgeeks.org/numpy-random-choice-in-python/>\n",
    "\n",
    "* DataCamp - Random Number Generator Using Numpy, <https://www.datacamp.com/community/tutorials/numpy-random>\n",
    "\n",
    "* Better Explained - Easy Permutations and Combinations, <https://betterexplained.com/articles/easy-permutations-and-combinations/>\n",
    "\n",
    "* Brett Berry - Combinations vs Permutations, <https://medium.com/i-math/combinations-permutations-fa7ac680f0ac#:~:text=The%20difference%20between%20combinations%20and,different%20ordering%20(aka%20permutation).>\n",
    "\n",
    "* Lew Yerian - Understanding Permutations and Combinations, <https://www.isixsigma.com/community/blogs/understanding-permutations-and-combinations/#:~:text=Permutations%20are%20for%20lists%20(where,permutation%20is%20an%20ordered%20combination.&text=A%20true%20%E2%80%9Ccombination%E2%80%9D%20lock%20would,a%20true%20%E2%80%9Ccombination%E2%80%9D%20lock.>\n",
    "\n",
    "* w3shools.com - Random Permutations, <https://www.w3schools.com/python/numpy_random_permutation.asp>\n",
    "\n",
    "* Wolfram Mathworld - Normal Distribution, <https://mathworld.wolfram.com/NormalDistribution.html>\n",
    "\n",
    "* w3shools.com - Binomial Distribution, <https://www.w3schools.com/python/numpy_random_binomial.asp>\n",
    "\n",
    "* Geeks for Geeks - Python – Binomial Distribution, <https://www.geeksforgeeks.org/python-binomial-distribution/>\n",
    "\n",
    "* Maths is Fun - The Binomial Distribution, <https://www.mathsisfun.com/data/binomial-distribution.html>\n",
    "\n",
    "* Wolfram Mathworld - Binomial Distribution,<https://mathworld.wolfram.com/BinomialDistribution.html>\n",
    "\n",
    "* David M. Lane - Binomial Distribution, <http://onlinestatbook.com/2/probability/binomial.html>\n",
    "\n",
    "* EW Weisstein - Poisson Distribution / Poisson Curve: Simple Definition, <https://www.statisticshowto.com/poisson-distribution/>\n",
    "\n",
    "* Will Koehrsen - The Poisson Distribution and Poisson Process Explained, <https://towardsdatascience.com/the-poisson-distribution-and-poisson-process-explained-4e2cb17d459>\n",
    "\n",
    "* Engineering and Statistics HAndbook - 1.3.6.6.19. Poisson Distribution, <https://www.itl.nist.gov/div898/handbook/eda/section3/eda366j.htm>\n",
    "\n",
    "* Geek for Geeks - numpy.random.poisson() in Python, <https://www.geeksforgeeks.org/numpy-random-poisson-in-python/>\n",
    "\n",
    "* Alex Lenail - Understanding and Implementing the Hypergeometric Test in Python, <https://blog.alexlenail.me/understanding-and-implementing-the-hypergeometric-test-in-python-a7db688a7458>\n",
    "\n",
    "* John DeJesus - Hypergeometric Distribution Explained With Python, <https://towardsdatascience.com/hypergeometric-distribution-explained-with-python-2c80bc613bf4>\n",
    "\n",
    "* Geek for Geeks - Python | Numpy np.hypergeometric() method, <https://www.geeksforgeeks.org/python-numpy-np-hypergeometric-method/>\n",
    "\n",
    "* Science Direct - Hypergeometric Distribution, <https://www.sciencedirect.com/topics/mathematics/hypergeometric-distribution>\n",
    "\n",
    "* Wolfram Mathworld - Hypergeometric Distribution, <https://mathworld.wolfram.com/HypergeometricDistribution.html>\n",
    "\n",
    "* Tutorials Point - Statistics: Laplace Distribution, <https://www.tutorialspoint.com/statistics/laplace_distribution.htm>"
   ]
  },
  {
   "cell_type": "code",
   "execution_count": null,
   "metadata": {},
   "outputs": [],
   "source": []
  }
 ],
 "metadata": {
  "kernelspec": {
   "display_name": "Python 3",
   "language": "python",
   "name": "python3"
  },
  "language_info": {
   "codemirror_mode": {
    "name": "ipython",
    "version": 3
   },
   "file_extension": ".py",
   "mimetype": "text/x-python",
   "name": "python",
   "nbconvert_exporter": "python",
   "pygments_lexer": "ipython3",
   "version": "3.8.2"
  }
 },
 "nbformat": 4,
 "nbformat_minor": 4
}
