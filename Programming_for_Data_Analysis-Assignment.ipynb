{
 "cells": [
  {
   "cell_type": "markdown",
   "metadata": {},
   "source": [
    "<img align=\"centre\" width=\"750\" height=\"750\" img src=\"https://i0.wp.com/www.creatingentrepreneursinfood.eu/wp-content/uploads/2017/02/GMIT-logo.png\">"
   ]
  },
  {
   "cell_type": "markdown",
   "metadata": {},
   "source": [
    "# Assignment - Programming for Data Analysis \n",
    "\n",
    "* **Author:** John Paul Lee\n",
    "* **Github:** JPLee01\n",
    "* **Email:** G00387906@gmit.ie\n",
    "* **Created:** 31-10-2020, **Last update:** 22-11-2020\n",
    "* Programming of Data Analysis: *numpy.random* Assignment 2020\n",
    "****\n",
    "This Jupyter Notebook has been created to explain the *numpy.random* package in Python. This notebook will explain the packages use and detailed explanations of at least five of the distributions provided for in the package for the Programming of Data Analysis Assignment.\n",
    "\n",
    "**Lecturer:** Dr. Brian McGinley\n",
    "\n",
    "The Project instructions can be found [here](https://github.com/JPLee01/Programming_for_Data_Analysis-Assignment/blob/main/Assignment%20Instructions.pdf)\n",
    "****"
   ]
  },
  {
   "cell_type": "markdown",
   "metadata": {},
   "source": [
    "As part of the assignment this notebook will be broken into four distinct sections:\n",
    "1. Explain the overall purpose of the package\n",
    "2. Explain the use of the “Simple Random Data” and “Permutations” functions\n",
    "3. Explain the use and purpose of at least five “Distributions” functions\n",
    "4. Explain the use of seeds in Generating Pseudorandom Mumbers"
   ]
  },
  {
   "cell_type": "markdown",
   "metadata": {},
   "source": [
    "## Preliminaries\n",
    "Prior to explaining each section we first need to import a number of libaries. We need to import the numpy libary as it is essential for the analysis of the numpy.random package. The matplotlib and seaborn libaries will also need to be imported to allow for the creation of visualisations in the assignmnet."
   ]
  },
  {
   "cell_type": "code",
   "execution_count": 1,
   "metadata": {},
   "outputs": [],
   "source": [
    "# Import numpy to allow for analysis of the numpy.random package\n",
    "# Import matplotlib.pyplot and seaborn for the creation of visualisations\n",
    "import numpy as np\n",
    "import matplotlib.pyplot as plt\n",
    "import seaborn as sns"
   ]
  },
  {
   "cell_type": "markdown",
   "metadata": {},
   "source": [
    "Also as we will be displaying Plots in this Jupyter Notebook we will implement the *inline* magic command to allow the Plots to be renerded inline within the Notebook.<sup>[1](#myfootnote1)</sup>"
   ]
  },
  {
   "cell_type": "code",
   "execution_count": 2,
   "metadata": {},
   "outputs": [],
   "source": [
    "#Inline Magic command implemented to ensure that the Plots are rendered inline\n",
    "%matplotlib inline"
   ]
  },
  {
   "cell_type": "markdown",
   "metadata": {},
   "source": [
    "To ensure uniformity in the throughout the Juypter Notebook in terms of the the Seaborn Plots display the *style* and *palette* fuction will be set.\n",
    "\n",
    "The *style* function will be set to *darkgrid*. This will allow for optimal measurments of Plots as the darkened background with the built in grid lines will be best displayed against the white background of the Juypter Notebook.<sup>[2](#myfootnote2)</sup> \n",
    "\n",
    "The *palette* fuction will be set to *bright* as it will allow for clear distinction of multiple outputs within one Plot.<sup>[3](#myfootnote3)</sup> "
   ]
  },
  {
   "cell_type": "code",
   "execution_count": 3,
   "metadata": {},
   "outputs": [],
   "source": [
    "#Setting of Seaborn dispays to enure uniformity throughout the Juypter Notebook\n",
    "#Darkplot style selected to allow for optimal measurments of Plots\n",
    "sns.set_style(\"darkgrid\")\n",
    "#Bright colour palette selected to allow for clear distinction of multiple outputs within one Plot \n",
    "sns.set_palette(\"bright\")"
   ]
  },
  {
   "cell_type": "markdown",
   "metadata": {},
   "source": [
    "## Section 1 - Explain the Overall Purpose of the Package"
   ]
  },
  {
   "cell_type": "markdown",
   "metadata": {},
   "source": [
    "<img align=\"centre\" width=\"350\" height=\"350\" img src=\"https://user-images.githubusercontent.com/50221806/86498201-a8bd8680-bd39-11ea-9d08-66b610a8dc01.png\">"
   ]
  },
  {
   "cell_type": "markdown",
   "metadata": {},
   "source": [
    "The numpy.random fuction is a package within the NumPy (Numerical Python) libary for doing random sampling.<sup>[4](#myfootnote4)</sup> \n",
    "\n",
    "NumPy according to it's [manual](https://numpy.org/doc/stable/user/whatisnumpy.html) is a \"Python library that provides a multidimensional array object, various derived objects (such as masked arrays and matrices), and an assortment of routines for fast operations on arrays, including mathematical, logical, shape manipulation, sorting, selecting, I/O, discrete Fourier transforms, basic linear algebra, basic statistical operations, random simulation.\"<sup>[5](#myfootnote5)</sup> The NumPy library enhances Python through the use of powerful data structures, implementing multi-dimensional arrays and matrices.<sup>[6](#myfootnote6)</sup> \n",
    "These data structures guarantee efficient calculations with matrices and arrays.<sup>[7](#myfootnote7)</sup> As a result, NumPy is able to help programmers in easily performing numerical computations, and is considered the fundamental package for scientific computing with Python.<sup>[8](#myfootnote8)</sup> Some of the numerical computations which can be performed easily with NumPy include:<sup>[9](#myfootnote9)</sup>\n",
    "   * Machine Learning Models\n",
    "   * Image Processing and Computer Graphics\n",
    "   * Mathematical tasks\n",
    "\n",
    "The numpy.random fuction within NumPy produces pseudorandom numbers (numbers created through the use of algorithms that use mathematical formulae or simply precalculated tables to produce sequences of numbers that appear random<sup>[10](#myfootnote10)</sup>) using combinations of a BitGenerator to create sequences and a Generator to use those sequences to sample from different statistical distributions.<sup>[11](#myfootnote11)</sup> A BitGenerator generates random numbers. These are typically unsigned integer words filled with sequences of either 32 or 64 random bits.<sup>[12](#myfootnote12)</sup> While a Generator transforms the sequences of random bits from the BitGenerator into sequences of numbers that follow a specific probability distribution (such as uniform, Normal or Binomial) within a specified interval.<sup>[13](#myfootnote13)</sup>\n",
    "\n",
    "It should be noted that since NumPy version 1.17.0 the Generator can be initialized with a number of different BitGenerators.<sup>[11](#myfootnote11)</sup> The default BitGenerator within NumPy is PCG64 which is a 128-bit implementation of O’Neill’s permutation congruential generator.<sup>[14](#myfootnote14)</sup>"
   ]
  },
  {
   "cell_type": "markdown",
   "metadata": {},
   "source": [
    "## Section 2 - Explain the use of the “Simple Random Data” and “Permutations” functions"
   ]
  },
  {
   "cell_type": "markdown",
   "metadata": {},
   "source": [
    "Within this section I will explain the of the simple random data and permutations functions within NumPy."
   ]
  },
  {
   "cell_type": "markdown",
   "metadata": {},
   "source": [
    "### Sction 2.1 - Simple Random Data"
   ]
  },
  {
   "cell_type": "markdown",
   "metadata": {},
   "source": [
    "In statistics a simple random data is defined as a subset of a statistical population in which each member of the subset has an equal probability of being chosen.<sup>[15](#myfootnote15)</sup> Moore, David and McCabe go into further detail by describing it as: \"A simple random data of size *n* consists of *n* individuals from the population chosen in such a way that every set of *n* individuals has an equal chance to be the sample actually selected\".<sup>[16](#myfootnote16)</sup> This is also displayed in pictorial form in the image below. An example simple random data in action would be when a teachers puts students' names in a hat and chooses without looking to get a sample of students. In essence, simple random data is meant to be an unbiased representation of a group. A positive of which is that it is seen as fairly representative since they don't favor certain members/groups.<sup>[17](#myfootnote17)</sup> \n",
    "\n",
    "<img align=\"centre\" width=\"350\" height=\"350\" img src=\"https://rm-15da4.kxcdn.com/wp-content/uploads/2015/04/Simple-random-sampling2.png\">\n",
    "\n",
    "Within *numpy.random* package there are four functions which use Simple Random Data:\n",
    "1. Integers\n",
    "2. Random\n",
    "3. Choice\n",
    "4. Bytes"
   ]
  },
  {
   "cell_type": "markdown",
   "metadata": {},
   "source": [
    "#### 2.1.1 Integers"
   ]
  },
  {
   "cell_type": "markdown",
   "metadata": {},
   "source": [
    "This function returns random integers from the discrete uniform distribution (i.e. equally likely outcomes<sup>[18](#myfootnote18)</sup>) of the specified dtype.\n",
    "\n",
    "The method for generating these integers is as follows: \n",
    "**```Generator.integers(low, high=None, size=None, dtype=np.int64, endpoint=False)```**\n",
    "    \n",
    "The parameters of the above method are as follows:<sup>[19](#myfootnote19)</sup>\n",
    "* *low* - Lowest (signed) integers to be drawn from the distribution (if ```high=None``` selected low is set to 0 and is used for the high parameter). The value for this parameter may be an integer or array-like of integers.\n",
    "* *high* - Optional parameter. If provided, one above the largest (signed) integer to be drawn from the distribution (see above for if ```high=None``` selected). If array-like, must contain integer values. The value (if chosen) for this parameter may be an integer or array-like of integers.\n",
    "* *size* - Optional parameter. If provided, dictates the output shape. If the given shape is, e.g., ```size=(2, 4, 10)``` then ```2 * 4 * 10``` samples are drawn (2 x Arrays (Groups), 4 x Rows in Each Array and 10 x Columns in Each Array). Default is None, in which case a single value is returned. The value (if chosen) for this parameter may be an integer or tuple of integers.\n",
    "* *dtype* - Optional parameter. The desired dtype (data type object<sup>[20](#myfootnote20)</sup>) of the result. Byteorder must be native. The default value is ```np.int64```. The value (if chosen) for this parameter may be a dtype.\n",
    "* *endpoint* - Optional parameter. If provided (```endpoint=True```), sample from the interval (low, high) instead of the default (low, high) defaults to False. The value (if chosen) for this parameter may be boolean. \n",
    "    \n",
    "The return from this function is a size-shaped array of random integers from the appropriate distribution, or a single such random integers if size not provided.\n",
    "\n",
    "This will now be highlighted in the below examples:"
   ]
  },
  {
   "cell_type": "code",
   "execution_count": 4,
   "metadata": {},
   "outputs": [
    {
     "name": "stdout",
     "output_type": "stream",
     "text": [
      "[[[ 5  2  3]\n",
      "  [ 2 10  5]\n",
      "  [ 9  2  2]\n",
      "  [ 4  4  2]\n",
      "  [ 3  6 10]\n",
      "  [ 8  2  3]\n",
      "  [ 1  8  9]\n",
      "  [ 2  7  1]]\n",
      "\n",
      " [[ 4  1 10]\n",
      "  [ 1  5  5]\n",
      "  [ 8 10  5]\n",
      "  [ 8  9  3]\n",
      "  [ 9  9  4]\n",
      "  [ 4  9  2]\n",
      "  [ 4  4  3]\n",
      "  [10  9  5]]]\n"
     ]
    }
   ],
   "source": [
    "#Generate a 2 x 8 x 3 array (2 Groups with 8 Rows and 3 columns) of integers between 1 and 10, inclusive\n",
    "#Setting of \"rng\" as the np.random.default_rng() function. This will be used throughout the Notebook\n",
    "rng = np.random.default_rng()\n",
    "rng.integers(1, 11, size=(2, 8, 3))\n",
    "z = rng.integers(1, 11, size=(2, 8, 3))\n",
    "print(z)"
   ]
  },
  {
   "cell_type": "code",
   "execution_count": 5,
   "metadata": {
    "scrolled": true
   },
   "outputs": [
    {
     "name": "stdout",
     "output_type": "stream",
     "text": [
      "[[[5 3 2 2 2 2]\n",
      "  [2 1 5 2 1 1]\n",
      "  [5 5 4 4 4 4]\n",
      "  [5 3 4 3 1 3]]]\n"
     ]
    }
   ],
   "source": [
    "#Generate a 1 x 4 x 6 array (1 Group with 4 Rows and 6 columns) of integers between 1 and 5, inclusive\n",
    "rng.integers(1, 6, size=(1, 4, 6))\n",
    "x = rng.integers(1, 6, size=(1, 4, 6))\n",
    "print(x)"
   ]
  },
  {
   "cell_type": "markdown",
   "metadata": {},
   "source": [
    "The resulting arrays can also be displayed visually using seaborn and matplotlib.pyplot:"
   ]
  },
  {
   "cell_type": "code",
   "execution_count": 6,
   "metadata": {},
   "outputs": [
    {
     "data": {
      "text/plain": [
       "Text(0, 0.5, 'Frequency')"
      ]
     },
     "execution_count": 6,
     "metadata": {},
     "output_type": "execute_result"
    },
    {
     "data": {
      "image/png": "[encoded data removed]",
      "text/plain": [
       "<Figure size 432x288 with 1 Axes>"
      ]
     },
     "metadata": {},
     "output_type": "display_data"
    }
   ],
   "source": [
    "#Visualise the above Integers\n",
    "sns.distplot(x, bins=6)\n",
    "plt.xlabel(\"Random Numbers\")\n",
    "plt.ylabel(\"Frequency\")"
   ]
  },
  {
   "cell_type": "markdown",
   "metadata": {},
   "source": [
    "#### 2.1.2 Random"
   ]
  },
  {
   "cell_type": "markdown",
   "metadata": {},
   "source": [
    "This function returns random floats in the half-open interval (0.0, 1.0), i.e. returns random values between 0 and 1 in a given shape.<sup>[21](#myfootnote21)</sup>\n",
    "\n",
    "The method for generating the random floats is as follows: \n",
    "**```Generator.random(size=None, dtype=np.float64, out=None)```**\n",
    "\n",
    "The results are from the continuous uniform distribution over the stated interval. This means that it takes values within a specified range, e.g. between 0 and 1.<sup>[22](#myfootnote22)</sup>) The mathematical formula for this distribution can be seen in the image below:\n",
    "\n",
    "<img align=\"centre\" width=\"500\" height=\"500\" img src=\"https://images.slideplayer.com/25/7872338/slides/slide_1.jpg\">\n",
    "\n",
    "The parameters of the above method are as follows:<sup>[23](#myfootnote23)</sup>\n",
    "* *size* - Optional parameter. If provided, dictates the output shape. If the given shape is, e.g., ```size=(3, 5, 8)``` then ```3 * 5 * 8``` samples are drawn (3 x Arrays (Groups), 5 x Rows in Each Array and 8 x Columns in Each Array). Default is None, in which case a single value is returned. The value (if chosen) for this parameter may be an integer or tuple of integers.\n",
    "* *dtype* - Optional parameter. The desired dtype (data type object<sup>[20](#myfootnote20)</sup>) of the result. Byteorder must be native. The default value is np.int64 and only float64 and float32 are supported. The value (if chosen) for this parameter must be either ```np.int64``` or ```np.int32```.\n",
    "* *out* - Optional parameter.An alternative output array in which to place the result. If size is not None, it must have the same shape as the provided size and must match the type of the output values. The value (if chosen) for this parameter may a ndarray i.e. a multidimensional container of items of the same type and size.<sup>[24](#myfootnote24)</sup>\n",
    "\n",
    "The return from this function is an array of random floats of shape size. Unless size is none, in which case a single float is returned.\n",
    "\n",
    "This will now be highlighted in the below examples:"
   ]
  },
  {
   "cell_type": "code",
   "execution_count": 7,
   "metadata": {},
   "outputs": [
    {
     "data": {
      "text/plain": [
       "0.09409297520875626"
      ]
     },
     "execution_count": 7,
     "metadata": {},
     "output_type": "execute_result"
    }
   ],
   "source": [
    "#Generate a random float between 0 and 1\n",
    "rng.random()"
   ]
  },
  {
   "cell_type": "code",
   "execution_count": 8,
   "metadata": {},
   "outputs": [
    {
     "name": "stdout",
     "output_type": "stream",
     "text": [
      "[[-2.00907584 -4.19686403 -1.31357937]\n",
      " [-2.7561959  -1.42284564 -4.09814578]\n",
      " [-0.93367268 -3.64428784 -0.9491535 ]\n",
      " [-4.95317381 -1.05994778 -1.5039216 ]]\n"
     ]
    }
   ],
   "source": [
    "#Generate a 4 x 3 Array (1 Array (Group) with 4 Rows and 3 columns)) of random numbers from -5 to 0\n",
    "x = 5 * rng.random((4, 3)) - 5\n",
    "print(x)"
   ]
  },
  {
   "cell_type": "markdown",
   "metadata": {},
   "source": [
    "The resulting floats can also be displayed visually using seaborn and matplotlib.pyplot:"
   ]
  },
  {
   "cell_type": "code",
   "execution_count": 9,
   "metadata": {},
   "outputs": [
    {
     "data": {
      "text/plain": [
       "Text(0, 0.5, 'Frequency')"
      ]
     },
     "execution_count": 9,
     "metadata": {},
     "output_type": "execute_result"
    },
    {
     "data": {
      "image/png": "[encoded data removed]",
      "text/plain": [
       "<Figure size 432x288 with 1 Axes>"
      ]
     },
     "metadata": {},
     "output_type": "display_data"
    }
   ],
   "source": [
    "#Visualise the above Floats\n",
    "sns.distplot(x, bins=8)\n",
    "plt.xlabel(\"Random Numbers\")\n",
    "plt.ylabel(\"Frequency\")"
   ]
  },
  {
   "cell_type": "markdown",
   "metadata": {},
   "source": [
    "This function can also be used for an array of inputs, outputting multiple arrays of random floats."
   ]
  },
  {
   "cell_type": "code",
   "execution_count": 10,
   "metadata": {},
   "outputs": [
    {
     "name": "stdout",
     "output_type": "stream",
     "text": [
      "[[[0.27215655 0.4456799 ]\n",
      "  [0.25615155 0.14163078]]\n",
      "\n",
      " [[0.88081069 0.86323459]\n",
      "  [0.56887698 0.30974012]]\n",
      "\n",
      " [[0.40734422 0.63621165]\n",
      "  [0.60315029 0.16000683]]\n",
      "\n",
      " [[0.82564873 0.94775683]\n",
      "  [0.31394066 0.15174817]]]\n"
     ]
    }
   ],
   "source": [
    "#Generate an 4 x 2 x 2 Array (4 Arrays (Groups) with 2 Rows and 2 columns)) of random numbers\n",
    "x = np.random.rand(4,2,2)\n",
    "print(x)"
   ]
  },
  {
   "cell_type": "markdown",
   "metadata": {},
   "source": [
    "The resulting arrays of random floats can also be displayed visually using seaborn and matplotlib.pyplot:"
   ]
  },
  {
   "cell_type": "code",
   "execution_count": 11,
   "metadata": {},
   "outputs": [
    {
     "data": {
      "text/plain": [
       "<matplotlib.legend.Legend at 0x118945160>"
      ]
     },
     "execution_count": 11,
     "metadata": {},
     "output_type": "execute_result"
    },
    {
     "data": {
      "image/png": "[encoded data removed]",
      "text/plain": [
       "<Figure size 432x288 with 1 Axes>"
      ]
     },
     "metadata": {},
     "output_type": "display_data"
    }
   ],
   "source": [
    "#Visualise the above arrays of random Floats \n",
    "sns.distplot(x[0,0], label=\"x[0,0]\")\n",
    "sns.distplot(x[0,1], label=\"x[0,1]\")\n",
    "sns.distplot(x[1,0], label=\"x[1,0]\")\n",
    "sns.distplot(x[1,1], label=\"x[1,1]\")\n",
    "plt.xlabel(\"Random Numbers\")\n",
    "plt.ylabel(\"Frequency\")\n",
    "plt.legend(loc=\"best\")"
   ]
  },
  {
   "cell_type": "markdown",
   "metadata": {},
   "source": [
    "#### 2.1.3 Choice"
   ]
  },
  {
   "cell_type": "markdown",
   "metadata": {},
   "source": [
    "This function generates a random sample from a given 1-D (One Dimensional) array, i.e. it generates random samples for data analysis.<sup>[25](#myfootnote25)</sup>\n",
    "\n",
    "The method for generating the random samples is as follows: \n",
    "**```Generator.choice(a, size=None, replace=True, p=None, axis=0, shuffle=True)```**\n",
    "\n",
    "The parameters of the above method are as follows:<sup>[26](#myfootnote26)</sup>\n",
    "* *a* - The array you want to operate on. If an ndarray is selected, a random sample is generated from its elements. If an innteger is selected, the random sample is generated from ```np.arange(a)```. The value for this parameter may be an integer or array-like of integers.\n",
    "* *size* - Optional parameter. If provided, dictates the output shape. If the given shape is, e.g., ```size=(2, 3, 3)```then ```2 * 3 * 3``` samples are drawn (2 x Arrays (Groups), 3 x Rows in Each Array and 3 x Columns in Each Array) in the 1-D *a*. If *a* has more than one dimension, the size shape will be inserted into the axis dimension, so the output ```ndim``` will be ```a.ndim - 1 + len(size)```. Default is None, in which case a single value is returned.\n",
    "* *replace* - Optional parameter of whether the sample is with or without replacement. The value (if chosen) for this parameter may be boolean.\n",
    "* *p* - Optional parameter. The probabilities associated with each entry in *a*. If not given the sample assumes a uniform distribution over all entries in *a*. The value (if chosen) for this parameter may be an one dimensional array-like of integers.\n",
    "* *axis* - Optional parameter. The axis along which the selection is performed. The default is 0. The value (if chosen) for this parameter may be an integer.\n",
    "* *shuffle* - Optional parameter. Decides whether the sample is shuffled when sampling without replacement. The default is True, if False selected a speedup is provided. The value (if chosen) for this parameter may be boolean. \n",
    "\n",
    "The return from this function is a single item an array of random samples.\n",
    "\n",
    "It should be noted that a ```ValueError``` may be rasied if:\n",
    "* *a* is an integer and less than zero,\n",
    "* *p* is not 1-dimensional,\n",
    "* *a* is array-like with a size 0\n",
    "* *p* is not a vector of probabilities\n",
    "* *a* and *p* have different lengths\n",
    "* ```replace=False``` and the sample size is greater than the population size.\n",
    "\n",
    "This fuction will now be highlighted in the below examples:"
   ]
  },
  {
   "cell_type": "code",
   "execution_count": 12,
   "metadata": {},
   "outputs": [
    {
     "data": {
      "text/plain": [
       "array([6, 7, 7, 4, 6, 4, 5, 6, 8, 9, 0, 3, 5, 0, 3, 3, 8, 2, 1, 4])"
      ]
     },
     "execution_count": 12,
     "metadata": {},
     "output_type": "execute_result"
    }
   ],
   "source": [
    "#Generate an uniform random sample from 0 to 10 of 20 values\n",
    "rng.choice(11, 20)"
   ]
  },
  {
   "cell_type": "code",
   "execution_count": 13,
   "metadata": {},
   "outputs": [
    {
     "data": {
      "text/plain": [
       "array([8, 0, 6, 9, 0, 7, 9, 9, 9, 9, 9, 2, 4, 6, 8, 8, 1, 9, 6, 3])"
      ]
     },
     "execution_count": 13,
     "metadata": {},
     "output_type": "execute_result"
    }
   ],
   "source": [
    "#It should be noted that this is the equivalent to rng.integers(0,11,20)\n",
    "rng.integers(0,11,20)"
   ]
  },
  {
   "cell_type": "code",
   "execution_count": 14,
   "metadata": {},
   "outputs": [
    {
     "name": "stdout",
     "output_type": "stream",
     "text": [
      "[ 1  7  1  7  5  1  5  7  2 10  1  8  0  9  2  7  7  1  1  7  1  8  7  2\n",
      "  9  1  7  2  5  2  2  7  2  1  2  1  5  2  9  5  5  2  0  2  5  8  5  7\n",
      "  5  4]\n"
     ]
    }
   ],
   "source": [
    "#Generate an non-uniform random sample from 0 to 10 of 50 values\n",
    "a = rng.choice(11, 50, p=[0.1, 0.2, 0.2, 0, 0.02, 0.25, 0.0, 0.1, 0.05, 0.05, 0.03])\n",
    "print(a)"
   ]
  },
  {
   "cell_type": "markdown",
   "metadata": {},
   "source": [
    "The resulting random sample can also be displayed visually using seaborn and matplotlib.pyplot:"
   ]
  },
  {
   "cell_type": "code",
   "execution_count": 15,
   "metadata": {},
   "outputs": [
    {
     "data": {
      "text/plain": [
       "Text(0, 0.5, 'Frequency')"
      ]
     },
     "execution_count": 15,
     "metadata": {},
     "output_type": "execute_result"
    },
    {
     "data": {
      "image/png": "[encoded data removed]",
      "text/plain": [
       "<Figure size 432x288 with 1 Axes>"
      ]
     },
     "metadata": {},
     "output_type": "display_data"
    }
   ],
   "source": [
    "#Visualise the above Random Sample\n",
    "sns.distplot(a)\n",
    "plt.xlabel(\"Random Numbers\")\n",
    "plt.ylabel(\"Frequency\")"
   ]
  },
  {
   "cell_type": "code",
   "execution_count": 16,
   "metadata": {},
   "outputs": [
    {
     "name": "stdout",
     "output_type": "stream",
     "text": [
      "[87 71 22 74 11 26 73 36 90 72  4  8 18 78 54 17 98 39 19 69 25 47 40 67\n",
      " 93 96 64 80 91 52 56 12  0 82 76 68 59 32 63  2 94 45 23 55 24 95 33 79\n",
      " 53 58]\n"
     ]
    }
   ],
   "source": [
    "#Generate a uniform random sample from 0 to 100 of 50 values, without replacement:\n",
    "y = np.random.choice(101, 50, replace=False)\n",
    "print(y)"
   ]
  },
  {
   "cell_type": "markdown",
   "metadata": {},
   "source": [
    "The resulting random sample can also be displayed visually using seaborn and matplotlib.pyplot:"
   ]
  },
  {
   "cell_type": "code",
   "execution_count": 17,
   "metadata": {},
   "outputs": [
    {
     "data": {
      "text/plain": [
       "Text(0, 0.5, 'Frequency')"
      ]
     },
     "execution_count": 17,
     "metadata": {},
     "output_type": "execute_result"
    },
    {
     "data": {
      "image/png": "[encoded data removed]",
      "text/plain": [
       "<Figure size 432x288 with 1 Axes>"
      ]
     },
     "metadata": {},
     "output_type": "display_data"
    }
   ],
   "source": [
    "#Visualise the above Random Sample\n",
    "sns.distplot(y)\n",
    "plt.xlabel(\"Random Numbers\")\n",
    "plt.ylabel(\"Frequency\")"
   ]
  },
  {
   "cell_type": "markdown",
   "metadata": {},
   "source": [
    "This function can also be used for non-numerical arrays."
   ]
  },
  {
   "cell_type": "code",
   "execution_count": 18,
   "metadata": {},
   "outputs": [
    {
     "name": "stdout",
     "output_type": "stream",
     "text": [
      "['Istanbul' 'London' 'Moscow']\n"
     ]
    }
   ],
   "source": [
    "#Generate a uniform random sample of 3 European citys form a list of 10, without replacement:\n",
    "cityList = [\"Dublin\", \"London\", \"Rome\", \"Paris\", \"Berlin\", \"Istanbul\", \"Moscow\", \"Madrid\", \"Lisbon\", \"Zürich,\"]\n",
    "x = np.random.choice(cityList, 3, replace=False)\n",
    "print(x)"
   ]
  },
  {
   "cell_type": "markdown",
   "metadata": {},
   "source": [
    "#### 2.1.4 Bytes"
   ]
  },
  {
   "cell_type": "markdown",
   "metadata": {},
   "source": [
    "This function returns random bytes.<sup>[27](#myfootnote27)</sup>\n",
    "\n",
    "The method for generating the random bytes is as follows: \n",
    "**```Generator.bytes(length)```**\n",
    "\n",
    "The parameter of the above method is:<sup>[28](#myfootnote28)</sup>\n",
    "* *length* - Number of random bytes. The value for this parameter must be an integer.\n",
    "\n",
    "The return from this function is a String of length *length (figure)*.\n",
    "\n",
    "This will now be highlighted in the below example:"
   ]
  },
  {
   "cell_type": "code",
   "execution_count": 19,
   "metadata": {},
   "outputs": [
    {
     "data": {
      "text/plain": [
       "b'\\xa6\\xe75\\x95_\\x04E\\x9a\\x95(A\\x91\\xb7v*\\x88;\\x08\\xc1f'"
      ]
     },
     "execution_count": 19,
     "metadata": {},
     "output_type": "execute_result"
    }
   ],
   "source": [
    "#Return 20 Random Bytes\n",
    "rng.bytes(20)"
   ]
  },
  {
   "cell_type": "markdown",
   "metadata": {},
   "source": [
    "Note the *\\x* indicates an escape character in which the resylt can't be displayed correctly otherwise.<sup>[29](#myfootnote29)</sup>"
   ]
  },
  {
   "cell_type": "markdown",
   "metadata": {},
   "source": [
    "### Sction 2.2 - Permutations"
   ]
  },
  {
   "cell_type": "markdown",
   "metadata": {},
   "source": [
    "A permutation is a mathematical technique that determines the number of possible arrangements in a set when the order of the arrangements matters.<sup>[30](#myfootnote30)</sup> While they may seem similar, it is important to note that permutations and combinations differ because in combinations the order of the arrangment is not imporant.<sup>[31](#myfootnote31)</sup> An example to highlight this different is the pin to your bank account. You pin is a \n",
    "permutation, as it needs to be entered in the correct order to access your bank account, if it was a combination, the order of the numbers would not matter.\n",
    "\n",
    "Statistically speaking, permutation is described as *n* distinct objects taken *r* at a time. Meaning that *n* refers to the number of objects from which the permutation is formed; and *r* refers to the number of objects used to form the permutation.<sup>[32](#myfootnote32)</sup> The mathematical formula for this can be seen in the image below:\n",
    "\n",
    "<img align=\"centre\" width=\"350\" height=\"350\" img src=\"https://www.bizskinny.com/images/Permutation-Formula.PNG\">\n",
    "\n",
    "\n",
    "To highlight this foumula we will use the following example. Suppose we have a set of three letters: X, Y, and Z, and we want to see how many ways we can arrange 2 letters from that set. Each possible arrangement would be an example of a permutation. The complete list of possible permutations would be: XY, XZ, YX, YZ, ZX, and ZY. As the permutation was formed from 3 letters (X, Y, and Z) n = 3; and the permutation consisted of 2 letters, so k = 2.<sup>[33](#myfootnote33)</sup>\n",
    "\n",
    "Within numpy.random package there are two functions which use Permutations:\n",
    "1. Shuffle\n",
    "2. Permutation"
   ]
  },
  {
   "cell_type": "markdown",
   "metadata": {},
   "source": [
    "#### 2.2.1 Shuffle"
   ]
  },
  {
   "cell_type": "markdown",
   "metadata": {},
   "source": [
    "The function modifies a sequence in-place by shuffling its contents. It should be noted this function only shuffles the array along the first axis of a multi-dimensional array. The order of sub-arrays is changed but their contents remains the same.\n",
    "\n",
    "The method for modifying a sequence in-place is as follows: \n",
    "**```Generator.shuffle(x, axis=0)```**\n",
    "\n",
    "The parameter of the above method is:<sup>[34](#myfootnote34)</sup>\n",
    "* *x* - The array or list to be shuffled. The value for this parameter must be an array-like of integers.\n",
    "* *axis* - Optional parameter. The axis along which *x* is shuffled along. The default is 0 and it is only supported on ndarray objects. The value (if chosen) for this parameter may be an integer.\n",
    "\n",
    "The shuffle function will now be highlighted in the below examples:"
   ]
  },
  {
   "cell_type": "code",
   "execution_count": 20,
   "metadata": {},
   "outputs": [
    {
     "data": {
      "text/plain": [
       "array([ 5,  8, 17, 16,  2,  3, 18,  9, 12, 15, 11,  7, 14,  1, 10, 19,  6,\n",
       "       13,  4,  0])"
      ]
     },
     "execution_count": 20,
     "metadata": {},
     "output_type": "execute_result"
    }
   ],
   "source": [
    "#Randomly shuffle the integers 0 to 20\n",
    "arr = np.arange(20)\n",
    "rng.shuffle(arr)\n",
    "arr"
   ]
  },
  {
   "cell_type": "markdown",
   "metadata": {},
   "source": [
    "This function can also be used for non-numerical arrays:"
   ]
  },
  {
   "cell_type": "code",
   "execution_count": 21,
   "metadata": {},
   "outputs": [
    {
     "data": {
      "text/plain": [
       "['Leeds',\n",
       " 'Man United',\n",
       " 'Man City',\n",
       " 'Liverpool',\n",
       " 'Chelsea',\n",
       " 'Arsenal',\n",
       " 'Leicester',\n",
       " 'Southampton',\n",
       " 'Spurs',\n",
       " 'Everton']"
      ]
     },
     "execution_count": 21,
     "metadata": {},
     "output_type": "execute_result"
    }
   ],
   "source": [
    "#Randomly shuffle 10 Football Teams\n",
    "Teams = [\"Arsenal\", \"Liverpool\", \"Man United\", \"Man City\", \"Spurs\", \"Chelsea\", \"Southampton\", \n",
    "         \"Leicester\", \"Everton\", \"Leeds\"]\n",
    "\n",
    "# pass random list into shuffle\n",
    "rng.shuffle(Teams)\n",
    "Teams"
   ]
  },
  {
   "cell_type": "markdown",
   "metadata": {},
   "source": [
    "We can also shuffle integers generate from the *np.arange* function:"
   ]
  },
  {
   "cell_type": "code",
   "execution_count": 22,
   "metadata": {},
   "outputs": [
    {
     "data": {
      "text/plain": [
       "array([17, 20, 12, 14,  9,  6, 18, 15,  2,  4,  5,  8,  7,  1, 10,  3, 13,\n",
       "       11, 19, 16,  0])"
      ]
     },
     "execution_count": 22,
     "metadata": {},
     "output_type": "execute_result"
    }
   ],
   "source": [
    "#Shuffle the range of 0-20 generated by np.arange\n",
    "List = np.arange(21)\n",
    "rng.shuffle(List)\n",
    "List"
   ]
  },
  {
   "cell_type": "markdown",
   "metadata": {},
   "source": [
    "#### 2.2.1 Permutation"
   ]
  },
  {
   "cell_type": "markdown",
   "metadata": {},
   "source": [
    "The function randomly permutes (rearranges) a sequence, or returns a permuted range. It should be noted that depending on the input the function operates differently.\n",
    "\n",
    "The method for randomly permuting a sequence is as follows: \n",
    "**```Generator.permutation(x, axis=0)```**\n",
    "\n",
    "The parameter of the above method is:<sup>[35](#myfootnote35)</sup>\n",
    "* *x* - The array or list to be permuted. If *x* is an integer, randomly permute ```np.arange(x)```. If *x* is an array, make a copy and shuffle the elements randomly.<sup>[36](#myfootnote36)</sup> The value for this parameter must be an integer or an array-like of integers.\n",
    "* *axis* - Optional parameter. The axis along which *x* is shuffled along. The default is 0. The value (if chosen) for this parameter may be an integer.\n",
    "\n",
    "The shuffle function will now be highlighted in the below examples:"
   ]
  },
  {
   "cell_type": "code",
   "execution_count": 23,
   "metadata": {},
   "outputs": [
    {
     "data": {
      "text/plain": [
       "array([4, 2, 0, 1, 3])"
      ]
     },
     "execution_count": 23,
     "metadata": {},
     "output_type": "execute_result"
    }
   ],
   "source": [
    "#As x in an integer the function will assume the input is a range and randomly permute np.arange(x)\n",
    "rng.permutation(5)"
   ]
  },
  {
   "cell_type": "code",
   "execution_count": 24,
   "metadata": {},
   "outputs": [
    {
     "data": {
      "text/plain": [
       "array([11, 44,  7,  2,  3])"
      ]
     },
     "execution_count": 24,
     "metadata": {},
     "output_type": "execute_result"
    }
   ],
   "source": [
    "#As x is an array the function will make a copy and shuffle the elements randomly\n",
    "rng.permutation([2, 3, 7, 11, 44])"
   ]
  },
  {
   "cell_type": "markdown",
   "metadata": {},
   "source": [
    "## Section 3 - Explain the Use and Purpose of at Least Five “Distributions” Functions"
   ]
  },
  {
   "cell_type": "code",
   "execution_count": null,
   "metadata": {},
   "outputs": [],
   "source": []
  },
  {
   "cell_type": "code",
   "execution_count": null,
   "metadata": {},
   "outputs": [],
   "source": []
  },
  {
   "cell_type": "code",
   "execution_count": null,
   "metadata": {},
   "outputs": [],
   "source": []
  },
  {
   "cell_type": "markdown",
   "metadata": {},
   "source": [
    "## References\n",
    "----------------------------------------------------"
   ]
  },
  {
   "cell_type": "markdown",
   "metadata": {},
   "source": [
    "<a name=\"myfootnote1\">1</a>: Stack Overflow - Purpose of “%matplotlib inline”, <https://stackoverflow.com/questions/43027980/purpose-of-matplotlib-inline/43028034>\n",
    "\n",
    "<a name=\"myfootnote2\">2</a>: The Python Graph Gallery - 104 Seaborn Themes, <https://python-graph-gallery.com/104-seaborn-themes/>\n",
    "\n",
    "<a name=\"myfootnote3\">3</a>: Seaborn - Choosing color palettes, <https://seaborn.pydata.org/tutorial/color_palettes.html>\n",
    "\n",
    "<a name=\"myfootnote4\">4</a>: Geeks for Geeks - Random sampling in numpy | random() function, <https://www.geeksforgeeks.org/random-sampling-in-numpy-random-function/>\n",
    "\n",
    "<a name=\"myfootnote5\">5</a>: NumPy 1.19 Manual - What is NumPy?,<https://numpy.org/doc/stable/user/whatisnumpy.html>\n",
    "\n",
    "<a name=\"myfootnote6\">6</a>: Bernd Klein - Numpy Tutorial, <https://www.python-course.eu/numpy.php>\n",
    "\n",
    "<a name=\"myfootnote7\">7</a>: Numpy 1.19 Manual - NumPy: the absolute basics for beginners, <https://numpy.org/doc/stable/user/absolute_beginners.html>\n",
    "\n",
    "<a name=\"myfootnote8\">8</a>: Geeks for Geeks - Python Numpy, <https://www.geeksforgeeks.org/python-numpy/>\n",
    "\n",
    "<a name=\"myfootnote9\">9</a>: Vijay Singh Khatri - Understanding NumPy, <https://dzone.com/articles/understanding-numpy#:~:text=NumPy%20is%20a%20powerful%20Python,in%20easily%20performing%20numerical%20computations>\n",
    "\n",
    "<a name=\"myfootnote10\">10</a>: Dr Mads Haahr - Introduction to Randomness and Random Numbers, <https://www.random.org/randomness/#:~:text=As%20the%20word%20'pseudo'%20suggests,of%20numbers%20that%20appear%20random>\n",
    "\n",
    "<a name=\"myfootnote11\">11</a>: NumPy 1.19 Manual - Random sampling (numpy.random), <https://numpy.org/doc/stable/reference/random/index.html>\n",
    "\n",
    "<a name=\"myfootnote12\">12</a>: NumPy 1.19 Manual - Bit Generators, <https://numpy.org/doc/stable/reference/random/bit_generators/index.html>\n",
    "\n",
    "<a name=\"myfootnote13\">13</a>: NumPy 1.19 Manual - Random Generator, <https://numpy.org/doc/stable/reference/random/generator.html#numpy.random.Generator>\n",
    "\n",
    "<a name=\"myfootnote14\">14</a>: NumPy 1.19 Manual - Permuted Congruential Generator (64-bit, PCG64), <https://numpy.org/doc/stable/reference/random/bit_generators/pcg64.html#numpy.random.PCG64>\n",
    "\n",
    "<a name=\"myfootnote15\">15</a>: Adam Hayes - Simple Random Sample, <https://www.investopedia.com/terms/s/simple-random-sample.asp#:~:text=A%20simple%20random%20sample%20is,equal%20probability%20of%20being%20chosen.&text=An%20example%20of%20a%20simple,a%20company%20of%20250%20employees.>\n",
    "\n",
    "<a name=\"myfootnote16\">16</a>: Moore, David S. and George P. McCabe (2006) - Introduction to the Practice of Statistics, 5th edition, p. 219\n",
    "\n",
    "<a name=\"myfootnote17\">17</a>: Kahn Acamedy - Sampling methods Review, <https://www.khanacademy.org/math/statistics-probability/designing-studies/sampling-methods-stats/a/sampling-methods-review>\n",
    "\n",
    "<a name=\"myfootnote18\">18</a>: Wolfram Mathworld - Discrete Uniform Distribution, <https://mathworld.wolfram.com/DiscreteUniformDistribution.html>\n",
    "\n",
    "<a name=\"myfootnote19\">19</a>: Numpy 1.19 Manual - numpy.random.Generator.integers, <https://numpy.org/doc/stable/reference/random/generated/numpy.random.Generator.integers.html#numpy.random.Generator.integers>\n",
    "\n",
    "<a name=\"myfootnote20\">20</a>: Numpy 1.19 Manual - Data type objects (dtype), <https://numpy.org/doc/stable/reference/arrays.dtypes.html>\n",
    "\n",
    "<a name=\"myfootnote21\">21</a>: Freie Universität Berlin - Statistics and Geospatial Data Analysis: The Continuous Uniform Distribution, <https://www.geo.fu-berlin.de/en/v/soga/Basics-of-statistics/Continous-Random-Variables/Continuous-Uniform-Distribution/index.html>\n",
    "\n",
    "<a name=\"myfootnote22\">22</a>: UCD Maths Support Centre - Statistics: Uniform Distribution (Continuous), <https://www.ucd.ie/msc/t4media/Uniform%20Distribution.pdf>\n",
    "\n",
    "<a name=\"myfootnote23\">23</a>: Numpy 1.19 Manual - numpy.random.Generator.random, <https://numpy.org/doc/stable/reference/random/generated/numpy.random.Generator.random.html#numpy.random.Generator.random>\n",
    "\n",
    "<a name=\"myfootnote24\">24</a>: Numpy 1.19 Manual - The N-dimensional array (ndarray), <https://numpy.org/doc/stable/reference/arrays.ndarray.html#:~:text=An%20ndarray%20is%20a%20(usually,the%20sizes%20of%20each%20dimension.>\n",
    "\n",
    "<a name=\"myfootnote25\">25</a>: Joshua Ebner - How To Use Numpy Random Choice, <https://www.sharpsightlabs.com/blog/numpy-random-choice/>\n",
    "\n",
    "<a name=\"myfootnote26\">26</a>: Numpy 1.19 Manual - numpy.random.Generator.choice, <https://numpy.org/doc/stable/reference/random/generated/numpy.random.Generator.choice.html#numpy.random.Generator.choice>\n",
    "\n",
    "<a name=\"myfootnote27\">27</a>: Kite - Bytes, <https://www.kite.com/python/docs/numpy.random.RandomState.bytes> \n",
    "\n",
    "<a name=\"myfootnote28\">28</a>: Numpy 1.19 Manual - numpy.random.Generator.bytes, <https://numpy.org/doc/stable/reference/random/generated/numpy.random.Generator.bytes.html#numpy.random.Generator.bytes>\n",
    "\n",
    "<a name=\"myfootnote29\">29</a>: w3shools.com - Python Escape Characters, <https://www.w3schools.com/python/gloss_python_escape_characters.asp>\n",
    "\n",
    "<a name=\"myfootnote30\">30</a>: Corporate Finance Institute - Permutation, <https://corporatefinanceinstitute.com/resources/knowledge/other/permutation/>\n",
    "\n",
    "<a name=\"myfootnote31\">31</a>: Stat Trek - Combination Definition, <https://stattrek.com/statistics/dictionary.aspx?definition=combination>\n",
    "\n",
    "<a name=\"myfootnote32\">32</a>: Britannica Dictionary - Permutations and Combinations, <https://www.britannica.com/science/permutation>\n",
    "\n",
    "<a name=\"myfootnote33\">33</a>: Stat Trek - Permutation Definition, <https://stattrek.com/statistics/dictionary.aspx?definition=permutation>\n",
    "\n",
    "<a name=\"myfootnote34\">34</a>: Numpy 1.19 Manual - numpy.random.Generator.shuffle, <https://numpy.org/doc/stable/reference/random/generated/numpy.random.Generator.shuffle.html#numpy.random.Generator.shuffle>\n",
    "\n",
    "<a name=\"myfootnote35\">35</a>: Numpy 1.19 Manual - numpy.random.Generator.permutation, <https://numpy.org/doc/stable/reference/random/generated/numpy.random.Generator.permutation.html#numpy.random.Generator.permutation>\n",
    "\n",
    "<a name=\"myfootnote36\">36</a>: Geeks for Geeks - numpy.random.permutation() in Python, <https://www.geeksforgeeks.org/numpy-random-permutation-in-python/>"
   ]
  },
  {
   "cell_type": "markdown",
   "metadata": {},
   "source": [
    "## Bibliography\n",
    "----------------------------------------------------"
   ]
  },
  {
   "cell_type": "markdown",
   "metadata": {},
   "source": [
    "Within the course of this project the following sources were also used for research purposes:\n",
    "\n",
    "* Jarkko Toivonen - Data Analysis with Python, <https://saskeli.github.io/data-analysis-with-python-summer-2019/numpy.html>\n",
    "\n",
    "* w3shools.com - Random Numbers in NumPy, <https://www.w3schools.com/python/numpy_random.asp>\n",
    "\n",
    "* Geeks for Geeks - numpy.random.randn() in Python, <https://www.geeksforgeeks.org/numpy-random-randn-python/>\n",
    "\n",
    "* Chris Albon - Generating Random Numbers With NumPy, <https://chrisalbon.com/python/basics/generating_random_numbers_with_numpy/>\n",
    "\n",
    "* Wolfram Mathworld - Pseudorandom Number, <https://mathworld.wolfram.com/PseudorandomNumber.html>\n",
    "\n",
    "* Joshua Ebner - Numpy Random Seed Explained, <https://www.sharpsightlabs.com/blog/numpy-random-seed/>\n",
    "\n",
    "* Jason Brownlee - How to Generate Random Numbers in Python, <https://machinelearningmastery.com/how-to-generate-random-numbers-in-python/>\n",
    "\n",
    "* Justin Bois - Lesson 23: Random number generation, <http://justinbois.github.io/bootcamp/2020/lessons/l23_random_number_generation.html>\n",
    "\n",
    "* Jupyter Notebook - Markdown Cells, <https://jupyter-notebook.readthedocs.io/en/stable/examples/Notebook/Working%20With%20Markdown%20Cells.html>\n",
    "\n",
    "* Geeks for Geeks - numpy.random.choice() in Python, <https://www.geeksforgeeks.org/numpy-random-choice-in-python/>\n",
    "\n",
    "* DataCamp - Random Number Generator Using Numpy, <https://www.datacamp.com/community/tutorials/numpy-random>\n",
    "\n",
    "* Better Explained - Easy Permutations and Combinations, <https://betterexplained.com/articles/easy-permutations-and-combinations/>\n",
    "\n",
    "* Brett Berry - Combinations vs Permutations, <https://medium.com/i-math/combinations-permutations-fa7ac680f0ac#:~:text=The%20difference%20between%20combinations%20and,different%20ordering%20(aka%20permutation).>\n",
    "\n",
    "* Lew Yerian - Understanding Permutations and Combinations, <https://www.isixsigma.com/community/blogs/understanding-permutations-and-combinations/#:~:text=Permutations%20are%20for%20lists%20(where,permutation%20is%20an%20ordered%20combination.&text=A%20true%20%E2%80%9Ccombination%E2%80%9D%20lock%20would,a%20true%20%E2%80%9Ccombination%E2%80%9D%20lock.>\n",
    "\n",
    "* w3shools.com - Random Permutations, <https://www.w3schools.com/python/numpy_random_permutation.asp>"
   ]
  },
  {
   "cell_type": "code",
   "execution_count": null,
   "metadata": {},
   "outputs": [],
   "source": []
  }
 ],
 "metadata": {
  "kernelspec": {
   "display_name": "Python 3",
   "language": "python",
   "name": "python3"
  },
  "language_info": {
   "codemirror_mode": {
    "name": "ipython",
    "version": 3
   },
   "file_extension": ".py",
   "mimetype": "text/x-python",
   "name": "python",
   "nbconvert_exporter": "python",
   "pygments_lexer": "ipython3",
   "version": "3.8.2"
  }
 },
 "nbformat": 4,
 "nbformat_minor": 4
}
