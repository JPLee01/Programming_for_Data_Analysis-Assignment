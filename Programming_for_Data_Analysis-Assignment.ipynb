{
 "cells": [
  {
   "cell_type": "markdown",
   "metadata": {},
   "source": [
    "<img align=\"centre\" width=\"750\" height=\"750\" img src=\"https://i0.wp.com/www.creatingentrepreneursinfood.eu/wp-content/uploads/2017/02/GMIT-logo.png\">"
   ]
  },
  {
   "cell_type": "markdown",
   "metadata": {},
   "source": [
    "# Assignment - Programming for Data Analysis \n",
    "\n",
    "* **Author:** John Paul Lee\n",
    "* **Github:** JPLee01\n",
    "* **Email:** G00387906@gmit.ie\n",
    "* **Created:** 31-10-2020, **Last update:** 22-11-2020\n",
    "* Programming of Data Analysis: *numpy.random* Assignment 2020\n",
    "****\n",
    "This Jupyter Notebook has been created to explain the *numpy.random* package in Python. This notebook will explain the packages use and detailed explanations of at least five of the distributions provided for in the package for the Programming of Data Analysis Assignment.\n",
    "\n",
    "**Lecturer:** Dr. Brian McGinley\n",
    "\n",
    "The Project instructions can be found at: https://github.com/JPLee01/Programming_for_Data_Analysis-Assignment/blob/main/Assignment%20Instructions.pdf\n",
    "****"
   ]
  },
  {
   "cell_type": "markdown",
   "metadata": {},
   "source": [
    "As part of the assignment this notebook will be broken into four distinct sections:\n",
    "1. Explain the overall purpose of the package\n",
    "2. Explain the use of the “Simple random data” and “Permutations” functions\n",
    "3. Explain the use and purpose of at least five “Distributions” functions\n",
    "4. Explain the use of seeds in generating pseudorandom numbers"
   ]
  },
  {
   "cell_type": "markdown",
   "metadata": {},
   "source": [
    "## Preliminaries\n",
    "Prior to explaining each section we first need to import a number of libaries. We need to import the numpy libary as it is essential for the analysis of the numpy.random package. The matplotlib and seaborn libaries will also need to be imported to allow for the creation of visualisations in the assignmnet."
   ]
  },
  {
   "cell_type": "code",
   "execution_count": 1,
   "metadata": {},
   "outputs": [],
   "source": [
    "# Import numpy to allow for analysis of the numpy.random package\n",
    "# Import matplotlib.pyplot and seaborn for the creation of visualisations\n",
    "import numpy as np\n",
    "import matplotlib.pyplot as plt\n",
    "import seaborn as sns"
   ]
  },
  {
   "cell_type": "markdown",
   "metadata": {},
   "source": [
    "Also as we will be displaying Plots in this Jupyter Notebook we will implement the *inline* magic command to allow the Plots to be renerded inline within the Notebook. https://stackoverflow.com/questions/43027980/purpose-of-matplotlib-inline/43028034"
   ]
  },
  {
   "cell_type": "code",
   "execution_count": 2,
   "metadata": {},
   "outputs": [],
   "source": [
    "#Inline Magic command implemented to ensure that the Plots are rendered inline\n",
    "%matplotlib inline"
   ]
  },
  {
   "cell_type": "markdown",
   "metadata": {},
   "source": [
    "To ensure uniformity in the throughout the Juypter Notebook in terms of the the Seaborn Plots display the *style* and *palette* fuction will be set.\n",
    "\n",
    "The *style* function will be set to *darkgrid*. This will allow for optimal measurments of Plots as the darkened background with the built in grid lines will be best displayed against the white background of the Juypter Notebook. https://python-graph-gallery.com/104-seaborn-themes/\n",
    "\n",
    "The *palette* fuction will be set to *bright* as it will allow for clear distinction of multiple outputs within one Plot. https://seaborn.pydata.org/tutorial/color_palettes.html"
   ]
  },
  {
   "cell_type": "code",
   "execution_count": 3,
   "metadata": {},
   "outputs": [],
   "source": [
    "#Setting of Seaborn dispays to enure uniformity throughout the Juypter Notebook\n",
    "#Darkplot style selected to allow for optimal measurments of Plots\n",
    "sns.set_style(\"darkgrid\")\n",
    "#Bright colour palette selected to allow for clear distinction of multiple outputs within one Plot \n",
    "sns.set_palette(\"bright\")"
   ]
  },
  {
   "cell_type": "markdown",
   "metadata": {},
   "source": [
    "## Section 1 - Explain the Overall Purpose of the Package"
   ]
  },
  {
   "cell_type": "markdown",
   "metadata": {},
   "source": [
    "<img align=\"centre\" width=\"350\" height=\"350\" img src=\"https://user-images.githubusercontent.com/50221806/86498201-a8bd8680-bd39-11ea-9d08-66b610a8dc01.png\">"
   ]
  },
  {
   "cell_type": "code",
   "execution_count": null,
   "metadata": {},
   "outputs": [],
   "source": []
  }
 ],
 "metadata": {
  "kernelspec": {
   "display_name": "Python 3",
   "language": "python",
   "name": "python3"
  },
  "language_info": {
   "codemirror_mode": {
    "name": "ipython",
    "version": 3
   },
   "file_extension": ".py",
   "mimetype": "text/x-python",
   "name": "python",
   "nbconvert_exporter": "python",
   "pygments_lexer": "ipython3",
   "version": "3.8.2"
  }
 },
 "nbformat": 4,
 "nbformat_minor": 4
}
