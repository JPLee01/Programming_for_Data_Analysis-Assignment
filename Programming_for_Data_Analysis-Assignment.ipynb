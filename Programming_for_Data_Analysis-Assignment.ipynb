{
 "cells": [
  {
   "cell_type": "markdown",
   "metadata": {},
   "source": [
    "<img align=\"centre\" width=\"750\" height=\"750\" img src=\"https://i0.wp.com/www.creatingentrepreneursinfood.eu/wp-content/uploads/2017/02/GMIT-logo.png\">"
   ]
  },
  {
   "cell_type": "markdown",
   "metadata": {},
   "source": [
    "# Assignment - Programming for Data Analysis \n",
    "\n",
    "* **Author:** John Paul Lee\n",
    "* **Github:** JPLee01\n",
    "* **Email:** G00387906@gmit.ie\n",
    "* **Created:** 31-10-2020, **Last update:** 22-11-2020\n",
    "* Programming of Data Analysis: *numpy.random* Assignment 2020\n",
    "****\n",
    "This Jupyter Notebook has been created to explain the *numpy.random* package in Python. This notebook will explain the packages use and detailed explanations of at least five of the distributions provided for in the package for the Programming of Data Analysis Assignment.\n",
    "\n",
    "**Lecturer:** Dr. Brian McGinley\n",
    "\n",
    "The Project instructions can be found [here](https://github.com/JPLee01/Programming_for_Data_Analysis-Assignment/blob/main/Assignment%20Instructions.pdf)\n",
    "****"
   ]
  },
  {
   "cell_type": "markdown",
   "metadata": {},
   "source": [
    "As part of the assignment this notebook will be broken into four distinct sections:\n",
    "1. Explain the overall purpose of the package\n",
    "2. Explain the use of the “Simple random data” and “Permutations” functions\n",
    "3. Explain the use and purpose of at least five “Distributions” functions\n",
    "4. Explain the use of seeds in generating pseudorandom numbers"
   ]
  },
  {
   "cell_type": "markdown",
   "metadata": {},
   "source": [
    "## Preliminaries\n",
    "Prior to explaining each section we first need to import a number of libaries. We need to import the numpy libary as it is essential for the analysis of the numpy.random package. The matplotlib and seaborn libaries will also need to be imported to allow for the creation of visualisations in the assignmnet."
   ]
  },
  {
   "cell_type": "code",
   "execution_count": 1,
   "metadata": {},
   "outputs": [],
   "source": [
    "# Import numpy to allow for analysis of the numpy.random package\n",
    "# Import matplotlib.pyplot and seaborn for the creation of visualisations\n",
    "import numpy as np\n",
    "import matplotlib.pyplot as plt\n",
    "import seaborn as sns"
   ]
  },
  {
   "cell_type": "markdown",
   "metadata": {},
   "source": [
    "Also as we will be displaying Plots in this Jupyter Notebook we will implement the *inline* magic command to allow the Plots to be renerded inline within the Notebook.<sup>[1](#myfootnote1)</sup>"
   ]
  },
  {
   "cell_type": "code",
   "execution_count": 2,
   "metadata": {},
   "outputs": [],
   "source": [
    "#Inline Magic command implemented to ensure that the Plots are rendered inline\n",
    "%matplotlib inline"
   ]
  },
  {
   "cell_type": "markdown",
   "metadata": {},
   "source": [
    "To ensure uniformity in the throughout the Juypter Notebook in terms of the the Seaborn Plots display the *style* and *palette* fuction will be set.\n",
    "\n",
    "The *style* function will be set to *darkgrid*. This will allow for optimal measurments of Plots as the darkened background with the built in grid lines will be best displayed against the white background of the Juypter Notebook.<sup>[2](#myfootnote2)</sup> \n",
    "\n",
    "The *palette* fuction will be set to *bright* as it will allow for clear distinction of multiple outputs within one Plot.<sup>[3](#myfootnote3)</sup> "
   ]
  },
  {
   "cell_type": "code",
   "execution_count": 3,
   "metadata": {},
   "outputs": [],
   "source": [
    "#Setting of Seaborn dispays to enure uniformity throughout the Juypter Notebook\n",
    "#Darkplot style selected to allow for optimal measurments of Plots\n",
    "sns.set_style(\"darkgrid\")\n",
    "#Bright colour palette selected to allow for clear distinction of multiple outputs within one Plot \n",
    "sns.set_palette(\"bright\")"
   ]
  },
  {
   "cell_type": "markdown",
   "metadata": {},
   "source": [
    "## Section 1 - Explain the Overall Purpose of the Package"
   ]
  },
  {
   "cell_type": "markdown",
   "metadata": {},
   "source": [
    "<img align=\"centre\" width=\"350\" height=\"350\" img src=\"https://user-images.githubusercontent.com/50221806/86498201-a8bd8680-bd39-11ea-9d08-66b610a8dc01.png\">"
   ]
  },
  {
   "cell_type": "markdown",
   "metadata": {},
   "source": [
    "The numpy.random fuction is a package within the NumPy (Numerical Python) libary for doing random sampling.<sup>[4](#myfootnote4)</sup> \n",
    "\n",
    "NumPy according to it's [manual](https://numpy.org/doc/stable/user/whatisnumpy.html) is a \"Python library that provides a multidimensional array object, various derived objects (such as masked arrays and matrices), and an assortment of routines for fast operations on arrays, including mathematical, logical, shape manipulation, sorting, selecting, I/O, discrete Fourier transforms, basic linear algebra, basic statistical operations, random simulation.\"<sup>[5](#myfootnote5)</sup> The NumPy library enhances Python through the use of powerful data structures, implementing multi-dimensional arrays and matrices.<sup>[6](#myfootnote6)</sup> \n",
    "These data structures guarantee efficient calculations with matrices and arrays.<sup>[7](#myfootnote7)</sup> As a result, NumPy is able to help programmers in easily performing numerical computations, and is considered the fundamental package for scientific computing with Python.<sup>[8](#myfootnote8)</sup> Some of the numerical computations which can be performed easily with NumPy include:<sup>[9](#myfootnote9)</sup>\n",
    "   * Machine Learning Models\n",
    "   * Image Processing and Computer Graphics\n",
    "   * Mathematical tasks\n",
    "\n",
    "The numpy.random fuction within NumPy produces pseudorandom numbers (numbers created through the use of algorithms that use mathematical formulae or simply precalculated tables to produce sequences of numbers that appear random<sup>[10](#myfootnote10)</sup>) using combinations of a BitGenerator to create sequences and a Generator to use those sequences to sample from different statistical distributions.<sup>[11](#myfootnote11)</sup> A BitGenerator generates random numbers. These are typically unsigned integer words filled with sequences of either 32 or 64 random bits.<sup>[12](#myfootnote12)</sup> While a Generator transforms the sequences of random bits from the BitGenerator into sequences of numbers that follow a specific probability distribution (such as uniform, Normal or Binomial) within a specified interval.<sup>[13](#myfootnote13)</sup>\n",
    "\n",
    "It should be noted that since NumPy version 1.17.0 the Generator can be initialized with a number of different BitGenerators.<sup>[11](#myfootnote11)</sup> The default BitGenerator within NumPy is PCG64 which is a 128-bit implementation of O’Neill’s permutation congruential generator.<sup>[14](#myfootnote14)</sup>"
   ]
  },
  {
   "cell_type": "markdown",
   "metadata": {},
   "source": [
    "## Section 2 - Explain the use of the “Simple random data” and “Permutations” functions"
   ]
  },
  {
   "cell_type": "markdown",
   "metadata": {},
   "source": [
    "Within this section I will explain the of the simple random data and permutations functions within NumPy."
   ]
  },
  {
   "cell_type": "markdown",
   "metadata": {},
   "source": [
    "### Sction 2.1 - Simple random data"
   ]
  },
  {
   "cell_type": "markdown",
   "metadata": {},
   "source": [
    "In statistics a simple random data is defined as a subset of a statistical population in which each member of the subset has an equal probability of being chosen.<sup>[15](#myfootnote15)</sup> Moore, David and McCabe go into further detail by describing it as: \"A simple random data of size *n* consists of *n* individuals from the population chosen in such a way that every set of *n* individuals has an equal chance to be the sample actually selected\".<sup>[16](#myfootnote16)</sup> This is also displayed in pictorial form in the image below. An example simple random data in action would be when a teachers puts students' names in a hat and chooses without looking to get a sample of students. In essence, simple random data is meant to be an unbiased representation of a group. A positive of which is that it is seen as fairly representative since they don't favor certain members/groups.<sup>[17](#myfootnote17)</sup> "
   ]
  },
  {
   "cell_type": "markdown",
   "metadata": {},
   "source": [
    "<img align=\"centre\" width=\"350\" height=\"350\" img src=\"https://rm-15da4.kxcdn.com/wp-content/uploads/2015/04/Simple-random-sampling2.png\">"
   ]
  },
  {
   "cell_type": "markdown",
   "metadata": {},
   "source": [
    "Within *numpy.random* package there are four functions which use Simple Random Data:\n",
    "1. Integers\n",
    "2. Random\n",
    "3. Choice\n",
    "4. Bytes"
   ]
  },
  {
   "cell_type": "markdown",
   "metadata": {},
   "source": [
    "#### Integers"
   ]
  },
  {
   "cell_type": "markdown",
   "metadata": {},
   "source": [
    "This function returns random integers from the discrete uniform distribution (i.e. equally likely outcomes<sup>[18](#myfootnote18)</sup>) of the specified dtype.\n",
    "\n",
    "The method for generating these integers is as follows: \n",
    "**Generator.integers(low, high=None, size=None, dtype=np.int64, endpoint=False)**\n",
    "    \n",
    "The parameters of the above method are as follows:<sup>[19](#myfootnote19)</sup>\n",
    "* *low* - Lowest (signed) integers to be drawn from the distribution (if high=None selected low is set to 0 and is used for the high parameter). The value for this parameter may be an integer or array-like of integers.\n",
    "* *high* - Optional parameter. If provided, one above the largest (signed) integer to be drawn from the distribution (see above for if high=None selected). If array-like, must contain integer values. The value (if chosen) for this parameter may be an integer or array-like of integers.\n",
    "* *size* - Optional parameter. If provided, dictates the output shape. If the given shape is, e.g., size=(2, 4, 10)then 2 * 4 * 10 samples are drawn (2 x Arrays (Groups), 4 x Rows in Each Array and 10 x Columns in Each Array. Default is None, in which case a single value is returned. The value (if chosen) for this parameter may be an integer or tuple of integers.\n",
    "* *dtype* - Optional parameter. The desired dtype (data type object<sup>[20](#myfootnote20)</sup>) of the result. Byteorder must be native. The default value is np.int64. The value (if chosen) for this parameter may be adtype.\n",
    "* *endpoint* - Optional parameter. If provided (endpoint=True), sample from the interval (low, high) instead of the default (low, high) defaults to False. The value (if chosen) for this parameter may be boolean. \n",
    "    \n",
    "The return from this function is a size-shaped array of random integers from the appropriate distribution, or a single such random integers if size not provided.\n",
    "\n",
    "This will now be highlighted in the below examples:"
   ]
  },
  {
   "cell_type": "code",
   "execution_count": 4,
   "metadata": {},
   "outputs": [
    {
     "name": "stdout",
     "output_type": "stream",
     "text": [
      "[[[5 4 1 2 1 5]\n",
      "  [3 5 1 3 5 1]\n",
      "  [5 1 1 3 3 2]\n",
      "  [1 4 4 2 2 3]]]\n"
     ]
    }
   ],
   "source": [
    "#Generate a 1 x 4 x 6 array (1 Group with 4 Rows and 6 columns) of integers between 1 and 5, inclusive\n",
    "rng = np.random.default_rng()\n",
    "rng.integers(1, 6, size=(1, 4, 6))\n",
    "x = rng.integers(1, 6, size=(1, 4, 6))\n",
    "print(x)"
   ]
  },
  {
   "cell_type": "code",
   "execution_count": 5,
   "metadata": {},
   "outputs": [
    {
     "data": {
      "text/plain": [
       "Text(0, 0.5, 'Frequency')"
      ]
     },
     "execution_count": 5,
     "metadata": {},
     "output_type": "execute_result"
    },
    {
     "data": {
      "image/png": "[encoded data removed]",
      "text/plain": [
       "<Figure size 432x288 with 1 Axes>"
      ]
     },
     "metadata": {},
     "output_type": "display_data"
    }
   ],
   "source": [
    "#Visualise the above integers\n",
    "sns.distplot(x, bins=6)\n",
    "plt.xlabel(\"Random Numbers\")\n",
    "plt.ylabel(\"Frequency\")"
   ]
  },
  {
   "cell_type": "markdown",
   "metadata": {},
   "source": [
    "#### Random"
   ]
  },
  {
   "cell_type": "code",
   "execution_count": null,
   "metadata": {},
   "outputs": [],
   "source": []
  },
  {
   "cell_type": "markdown",
   "metadata": {},
   "source": [
    "## References\n",
    "----------------------------------------------------"
   ]
  },
  {
   "cell_type": "markdown",
   "metadata": {},
   "source": [
    "<a name=\"myfootnote1\">1</a>: Stack Overflow - Purpose of “%matplotlib inline”, <https://stackoverflow.com/questions/43027980/purpose-of-matplotlib-inline/43028034>\n",
    "\n",
    "<a name=\"myfootnote2\">2</a>: The Python Graph Gallery - 104 Seaborn Themes, <https://python-graph-gallery.com/104-seaborn-themes/>\n",
    "\n",
    "<a name=\"myfootnote3\">3</a>: Seaborn - Choosing color palettes, <https://seaborn.pydata.org/tutorial/color_palettes.html>\n",
    "\n",
    "<a name=\"myfootnote4\">4</a>: Geeks for Geeks - Random sampling in numpy | random() function, <https://www.geeksforgeeks.org/random-sampling-in-numpy-random-function/>\n",
    "\n",
    "<a name=\"myfootnote5\">5</a>: NumPy 1.19 Manual - What is NumPy?,<https://numpy.org/doc/stable/user/whatisnumpy.html>\n",
    "\n",
    "<a name=\"myfootnote6\">6</a>: Bernd Klein - Numpy Tutorial, <https://www.python-course.eu/numpy.php>\n",
    "\n",
    "<a name=\"myfootnote7\">7</a>: Numpy 1.19 Manual - NumPy: the absolute basics for beginners, <https://numpy.org/doc/stable/user/absolute_beginners.html>\n",
    "\n",
    "<a name=\"myfootnote8\">8</a>: Geeks for Geeks - Python Numpy, <https://www.geeksforgeeks.org/python-numpy/>\n",
    "\n",
    "<a name=\"myfootnote9\">9</a>: Vijay Singh Khatri - Understanding NumPy, <https://dzone.com/articles/understanding-numpy#:~:text=NumPy%20is%20a%20powerful%20Python,in%20easily%20performing%20numerical%20computations>\n",
    "\n",
    "<a name=\"myfootnote10\">10</a>: Dr Mads Haahr - Introduction to Randomness and Random Numbers, <https://www.random.org/randomness/#:~:text=As%20the%20word%20'pseudo'%20suggests,of%20numbers%20that%20appear%20random>\n",
    "\n",
    "<a name=\"myfootnote11\">11</a>: NumPy 1.19 Manual - Random sampling (numpy.random), <https://numpy.org/doc/stable/reference/random/index.html>\n",
    "\n",
    "<a name=\"myfootnote12\">12</a>: NumPy 1.19 Manual - Bit Generators, <https://numpy.org/doc/stable/reference/random/bit_generators/index.html>\n",
    "\n",
    "<a name=\"myfootnote13\">13</a>: NumPy 1.19 Manual - Random Generator, <https://numpy.org/doc/stable/reference/random/generator.html#numpy.random.Generator>\n",
    "\n",
    "<a name=\"myfootnote14\">14</a>: NumPy 1.19 Manual - Permuted Congruential Generator (64-bit, PCG64), <https://numpy.org/doc/stable/reference/random/bit_generators/pcg64.html#numpy.random.PCG64>\n",
    "\n",
    "<a name=\"myfootnote15\">15</a>: Adam Hayes - Simple Random Sample, <https://www.investopedia.com/terms/s/simple-random-sample.asp#:~:text=A%20simple%20random%20sample%20is,equal%20probability%20of%20being%20chosen.&text=An%20example%20of%20a%20simple,a%20company%20of%20250%20employees.>\n",
    "\n",
    "<a name=\"myfootnote16\">16</a>: Moore, David S. and George P. McCabe (2006) - Introduction to the Practice of Statistics, 5th edition, p. 219\n",
    "\n",
    "<a name=\"myfootnote17\">17</a>: Kahn Acamedy - Sampling methods Review, <https://www.khanacademy.org/math/statistics-probability/designing-studies/sampling-methods-stats/a/sampling-methods-review>\n",
    "\n",
    "<a name=\"myfootnote18\">18</a>: Wolfram Mathworld - Discrete Uniform Distribution, <https://mathworld.wolfram.com/DiscreteUniformDistribution.html>\n",
    "\n",
    "<a name=\"myfootnote19\">19</a>: Numpy 1.19 Manual - numpy.random.Generator.integers, <https://numpy.org/doc/stable/reference/random/generated/numpy.random.Generator.integers.html#numpy.random.Generator.integers>\n",
    "\n",
    "<a name=\"myfootnote19\">19</a>: Numpy 1.19 Manual - Data type objects (dtype), <https://numpy.org/doc/stable/reference/arrays.dtypes.html>\n",
    "\n"
   ]
  },
  {
   "cell_type": "markdown",
   "metadata": {},
   "source": [
    "## Bibliography\n",
    "----------------------------------------------------"
   ]
  },
  {
   "cell_type": "markdown",
   "metadata": {},
   "source": [
    "Within the course of this project the following sources were also used for research purposes:\n",
    "\n",
    "* Jarkko Toivonen - Data Analysis with Python, <https://saskeli.github.io/data-analysis-with-python-summer-2019/numpy.html>\n",
    "\n",
    "* w3shools.com - Random Numbers in NumPy, <https://www.w3schools.com/python/numpy_random.asp>\n",
    "\n",
    "* Geeks for Geeks - numpy.random.randn() in Python, <https://www.geeksforgeeks.org/numpy-random-randn-python/>\n",
    "\n",
    "* Chris Albon - Generating Random Numbers With NumPy, <https://chrisalbon.com/python/basics/generating_random_numbers_with_numpy/>\n",
    "\n",
    "* Wolfram Mathworld - Pseudorandom Number, <https://mathworld.wolfram.com/PseudorandomNumber.html>\n",
    "\n",
    "* Joshua Ebner - Numpy Random Seed Explained, <https://www.sharpsightlabs.com/blog/numpy-random-seed/>\n",
    "\n",
    "* Jason Brownlee - How to Generate Random Numbers in Python, <https://machinelearningmastery.com/how-to-generate-random-numbers-in-python/>"
   ]
  },
  {
   "cell_type": "code",
   "execution_count": null,
   "metadata": {},
   "outputs": [],
   "source": []
  }
 ],
 "metadata": {
  "kernelspec": {
   "display_name": "Python 3",
   "language": "python",
   "name": "python3"
  },
  "language_info": {
   "codemirror_mode": {
    "name": "ipython",
    "version": 3
   },
   "file_extension": ".py",
   "mimetype": "text/x-python",
   "name": "python",
   "nbconvert_exporter": "python",
   "pygments_lexer": "ipython3",
   "version": "3.8.2"
  }
 },
 "nbformat": 4,
 "nbformat_minor": 4
}
